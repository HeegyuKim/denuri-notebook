{
 "cells": [
  {
   "cell_type": "markdown",
   "metadata": {},
   "source": [
    "# Embedding + CNN을 이용한 감정 분석\n",
    "## Process\n",
    "1. 전처리된 데이터 불러오기\n",
    "2. one_hot 인코딩\n",
    "3. CNN 레이어 구성\n",
    "4. 학습\n",
    "\n",
    "## Reference\n",
    "1. [케라스와 텐서플로 허브를 사용한 영화 리뷰 텍스트 분류하기](https://www.tensorflow.org/tutorials/keras/text_classification_with_hub?hl=ko)\n",
    "2. [keras를 이용해서, sequence classification 해보기](https://frhyme.github.io/machin-learning/sequence_classficiation/)"
   ]
  },
  {
   "cell_type": "code",
   "execution_count": 1,
   "metadata": {
    "scrolled": true
   },
   "outputs": [
    {
     "name": "stderr",
     "output_type": "stream",
     "text": [
      "Using TensorFlow backend.\n"
     ]
    }
   ],
   "source": [
    "%matplotlib inline\n",
    "import math\n",
    "import pandas as pd\n",
    "import numpy as np\n",
    "import matplotlib.pyplot as plt\n",
    "from collections import Counter\n",
    "\n",
    "from sklearn.feature_extraction.text import TfidfVectorizer\n",
    "from sklearn.preprocessing import LabelEncoder\n",
    "from sklearn.model_selection import train_test_split\n",
    "\n",
    "from keras import Sequential\n",
    "from keras.layers import Dense, Conv1D, MaxPooling1D, Embedding, Dropout, GlobalAveragePooling1D, LSTM\n",
    "from keras.preprocessing.sequence import pad_sequences\n",
    "from keras.preprocessing.text import one_hot"
   ]
  },
  {
   "cell_type": "code",
   "execution_count": 2,
   "metadata": {},
   "outputs": [
    {
     "data": {
      "text/html": [
       "<div>\n",
       "<style scoped>\n",
       "    .dataframe tbody tr th:only-of-type {\n",
       "        vertical-align: middle;\n",
       "    }\n",
       "\n",
       "    .dataframe tbody tr th {\n",
       "        vertical-align: top;\n",
       "    }\n",
       "\n",
       "    .dataframe thead th {\n",
       "        text-align: right;\n",
       "    }\n",
       "</style>\n",
       "<table border=\"1\" class=\"dataframe\">\n",
       "  <thead>\n",
       "    <tr style=\"text-align: right;\">\n",
       "      <th></th>\n",
       "      <th>title_token</th>\n",
       "      <th>content_token</th>\n",
       "      <th>reaction_category</th>\n",
       "    </tr>\n",
       "  </thead>\n",
       "  <tbody>\n",
       "    <tr>\n",
       "      <th>0</th>\n",
       "      <td>[전두환, 프로젝트, 연희동, 집, 가구, 세트, 막대, 세금, 구입, 네이버, 뉴스]</td>\n",
       "      <td>[대통령, 자리, 물러난, 전두환, 별도, 전직, 대통령, 사무실, 내지, 않았으면...</td>\n",
       "      <td>1</td>\n",
       "    </tr>\n",
       "    <tr>\n",
       "      <th>1</th>\n",
       "      <td>[식약처, 존슨, 앤드, 존슨, 제품, 빼고, 암, 위험, 인공, 유방, 퇴, 출,...</td>\n",
       "      <td>[식품의약품안전처, 암, 발병, 사례, 보고, 된, 인공, 유방, 보, 형, 물이,...</td>\n",
       "      <td>1</td>\n",
       "    </tr>\n",
       "    <tr>\n",
       "      <th>10</th>\n",
       "      <td>[늘어나는, 주택연금, 가입자, 집, 한, 채, 있다면, 노후, 걱정, 마세요, 네...</td>\n",
       "      <td>[주택연금, 올, 들어서만, 명, 가입, 정부, 주택연금, 가입, 기준, 완화, 예...</td>\n",
       "      <td>2</td>\n",
       "    </tr>\n",
       "    <tr>\n",
       "      <th>100</th>\n",
       "      <td>[비서, 성폭행, 안희정, 심, 달랐던, 판단, 오늘, 대법, 선고, 네이버, 뉴스]</td>\n",
       "      <td>[앵커, 심, 무죄, 나왔지만, 심, 실형, 선고, 받고, 법정구속, 돼, 있습니다...</td>\n",
       "      <td>1</td>\n",
       "    </tr>\n",
       "    <tr>\n",
       "      <th>1000</th>\n",
       "      <td>[인천, 경기, 북부, 호우, 주의보, 내일, 최고, 더, 온다, 네이버, 뉴스]</td>\n",
       "      <td>[아침, 인천, 경기, 북부, 파주, 고양, 연천, 김포, 안산, 호우, 주의보, ...</td>\n",
       "      <td>2</td>\n",
       "    </tr>\n",
       "  </tbody>\n",
       "</table>\n",
       "</div>"
      ],
      "text/plain": [
       "                                            title_token  \\\n",
       "0      [전두환, 프로젝트, 연희동, 집, 가구, 세트, 막대, 세금, 구입, 네이버, 뉴스]   \n",
       "1     [식약처, 존슨, 앤드, 존슨, 제품, 빼고, 암, 위험, 인공, 유방, 퇴, 출,...   \n",
       "10    [늘어나는, 주택연금, 가입자, 집, 한, 채, 있다면, 노후, 걱정, 마세요, 네...   \n",
       "100     [비서, 성폭행, 안희정, 심, 달랐던, 판단, 오늘, 대법, 선고, 네이버, 뉴스]   \n",
       "1000      [인천, 경기, 북부, 호우, 주의보, 내일, 최고, 더, 온다, 네이버, 뉴스]   \n",
       "\n",
       "                                          content_token  reaction_category  \n",
       "0     [대통령, 자리, 물러난, 전두환, 별도, 전직, 대통령, 사무실, 내지, 않았으면...                  1  \n",
       "1     [식품의약품안전처, 암, 발병, 사례, 보고, 된, 인공, 유방, 보, 형, 물이,...                  1  \n",
       "10    [주택연금, 올, 들어서만, 명, 가입, 정부, 주택연금, 가입, 기준, 완화, 예...                  2  \n",
       "100   [앵커, 심, 무죄, 나왔지만, 심, 실형, 선고, 받고, 법정구속, 돼, 있습니다...                  1  \n",
       "1000  [아침, 인천, 경기, 북부, 파주, 고양, 연천, 김포, 안산, 호우, 주의보, ...                  2  "
      ]
     },
     "execution_count": 2,
     "metadata": {},
     "output_type": "execute_result"
    }
   ],
   "source": [
    "data = pd.read_json(\"../data/news_reactions_recent_preprocessed.json\")\n",
    "data.head()"
   ]
  },
  {
   "cell_type": "markdown",
   "metadata": {},
   "source": [
    "## 임베딩\n"
   ]
  },
  {
   "cell_type": "code",
   "execution_count": 3,
   "metadata": {},
   "outputs": [],
   "source": [
    "# 상수 정하기\n",
    "NUM_TOKENS = 10000   # 최대 임베딩 가능한 토큰의 수\n",
    "EMBEDDING_SIZE = 256 # 임베딩 벡터의 크기\n",
    "MAX_SEQUENCE_LEN = 1024   # 시퀀스 최대 길이\n",
    "TITLE_MAX_LEN = 32 # 제목 토큰 최대길이\n",
    "CONTENT_MAX_LEN = 1024 # 뉴스 내용 토큰 최대길이\n",
    "\n",
    "WORD_PAD = '<pad>'\n",
    "WORD_EOS = '<eos>'\n",
    "WORD_UNK = '<unk>'"
   ]
  },
  {
   "cell_type": "code",
   "execution_count": 4,
   "metadata": {
    "scrolled": true
   },
   "outputs": [
    {
     "name": "stdout",
     "output_type": "stream",
     "text": [
      "44565\n",
      "[('했다', 11571), ('것', 10725), ('이', 8160), ('들', 7291), ('등', 5866), ('적', 5494), ('하는', 5422), ('있다', 5216), ('할', 5094), ('고', 4963), ('수', 4896), ('장관', 4516), ('해', 4005), ('검찰', 3609), ('말', 3373), ('된', 3323), ('재', 3124), ('뉴스', 3012), ('조', 2999), ('한국', 2998), ('대통령', 2971), ('기자', 2929), ('그', 2835), ('한', 2588), ('며', 2583), ('있는', 2515), ('네이버', 2510), ('전', 2506), ('조국', 2399), ('한다', 2320), ('명', 2294), ('임명', 2214), ('대한', 2168), ('미국', 2119), ('및', 1964), ('당', 1936), ('지난', 1921), ('대해', 1895), ('수사', 1852), ('의원', 1836), ('는', 1808), ('후보자', 1792), ('됐다', 1744), ('날', 1718), ('중', 1716), ('정부', 1634), ('위', 1608), ('금지', 1591), ('관련', 1575), ('될', 1565)]\n"
     ]
    }
   ],
   "source": [
    "# 자주 사용된 토큰 순으로 토큰 개수를 제한함.\n",
    "# 모든 토큰의 갯수, 많이 사용된 토큰 50개만 출력\n",
    "token_counter = Counter()\n",
    "for row in data.itertuples():\n",
    "    token_counter.update(row[1])\n",
    "    token_counter.update(row[2])\n",
    "    \n",
    "print(len(token_counter))\n",
    "print(token_counter.most_common(50))\n",
    "\n",
    "commons = token_counter.most_common(NUM_TOKENS - 3)\n",
    "commons.insert(0, (WORD_PAD, 0))\n",
    "commons.insert(1, (WORD_EOS, 0))\n",
    "commons.insert(2, (WORD_UNK, 0))\n",
    "\n",
    "word2idx = {w[0]: i for i, w in enumerate(commons)}"
   ]
  },
  {
   "cell_type": "code",
   "execution_count": 5,
   "metadata": {},
   "outputs": [],
   "source": [
    "X = []\n",
    "y = []\n",
    "\n",
    "EOS_IDX = word2idx[WORD_EOS]\n",
    "PAD_IDX = word2idx[WORD_PAD]\n",
    "UNK_IDX = word2idx[WORD_UNK]\n",
    "Y_LABEL = list(map(lambda x: np.array(x), ([[1,0,0],[0,1,0],[0,0,1]])))\n",
    "\n",
    "for row in data.itertuples():\n",
    "    title = row[1]\n",
    "    title_len = len(title)\n",
    "    content = row[2]\n",
    "    content_len = len(content)\n",
    "    category = row[3]\n",
    "    \n",
    "    x = []\n",
    "    title = list(map(lambda x: word2idx.get(x, UNK_IDX), title))\n",
    "    content = list(map(lambda x: word2idx.get(x, UNK_IDX), content))\n",
    "    \n",
    "    if title_len >= TITLE_MAX_LEN:\n",
    "        title = title[:TITLE_MAX_LEN]\n",
    "    elif title_len < TITLE_MAX_LEN:\n",
    "        title.extend([PAD_IDX for i in range(TITLE_MAX_LEN - title_len)])\n",
    "    if content_len >= CONTENT_MAX_LEN:\n",
    "        content = content[:CONTENT_MAX_LEN]\n",
    "    elif content_len < CONTENT_MAX_LEN:\n",
    "        title.extend([PAD_IDX for i in range(CONTENT_MAX_LEN - content_len)])\n",
    "    \n",
    "    x.extend(title)\n",
    "    x.extend(content)\n",
    "    \n",
    "    if len(x) >= MAX_SEQUENCE_LEN:\n",
    "        x = x[:MAX_SEQUENCE_LEN]\n",
    "        \n",
    "    X.append(np.array(x))\n",
    "    y.append(Y_LABEL[category])\n",
    "\n",
    "X = np.array(X)\n",
    "y = np.array(y)"
   ]
  },
  {
   "cell_type": "code",
   "execution_count": 6,
   "metadata": {
    "scrolled": true
   },
   "outputs": [
    {
     "name": "stdout",
     "output_type": "stream",
     "text": [
      "title_token                        [달걀, 견과류, 아침, 공복, 먹어야, 효과, 네이버, 뉴스]\n",
      "content_token        [항산화제, 알려진, 비타민, E, 의, 흡수, 율, 높이려면, 아침식사, 때, 달...\n",
      "reaction_category                                                    0\n",
      "Name: 2, dtype: object [4575 5308 2179 ...  514  255  119] 1024\n",
      "[0 0 1]\n"
     ]
    }
   ],
   "source": [
    "print(data.loc[2], X[2], len(X[2]))\n",
    "print(y[2])"
   ]
  },
  {
   "cell_type": "markdown",
   "metadata": {},
   "source": [
    "## Train-Test 분리"
   ]
  },
  {
   "cell_type": "code",
   "execution_count": 7,
   "metadata": {},
   "outputs": [
    {
     "name": "stdout",
     "output_type": "stream",
     "text": [
      "Train Size:  1841\n",
      "Test Size:  461\n"
     ]
    }
   ],
   "source": [
    "train_x, test_x, train_y, test_y = train_test_split(X, y, test_size=0.2)\n",
    "\n",
    "print(\"Train Size: \", len(train_x))\n",
    "print(\"Test Size: \", len(test_x))"
   ]
  },
  {
   "cell_type": "code",
   "execution_count": 8,
   "metadata": {},
   "outputs": [
    {
     "data": {
      "text/plain": [
       "array([1, 0, 0])"
      ]
     },
     "execution_count": 8,
     "metadata": {},
     "output_type": "execute_result"
    }
   ],
   "source": [
    "train_y[0]"
   ]
  },
  {
   "cell_type": "markdown",
   "metadata": {},
   "source": [
    "## 모델 생성 및 학습"
   ]
  },
  {
   "cell_type": "code",
   "execution_count": 9,
   "metadata": {},
   "outputs": [
    {
     "name": "stdout",
     "output_type": "stream",
     "text": [
      "Model: \"sequential_1\"\n",
      "_________________________________________________________________\n",
      "Layer (type)                 Output Shape              Param #   \n",
      "=================================================================\n",
      "embedding_1 (Embedding)      (None, None, 256)         2560000   \n",
      "_________________________________________________________________\n",
      "conv1d_1 (Conv1D)            (None, None, 32)          40992     \n",
      "_________________________________________________________________\n",
      "max_pooling1d_1 (MaxPooling1 (None, None, 32)          0         \n",
      "_________________________________________________________________\n",
      "lstm_1 (LSTM)                (None, 50)                16600     \n",
      "_________________________________________________________________\n",
      "dropout_1 (Dropout)          (None, 50)                0         \n",
      "_________________________________________________________________\n",
      "dense_1 (Dense)              (None, 256)               13056     \n",
      "_________________________________________________________________\n",
      "dense_2 (Dense)              (None, 3)                 771       \n",
      "=================================================================\n",
      "Total params: 2,631,419\n",
      "Trainable params: 2,631,419\n",
      "Non-trainable params: 0\n",
      "_________________________________________________________________\n"
     ]
    }
   ],
   "source": [
    "model = Sequential([\n",
    "    Embedding(NUM_TOKENS, EMBEDDING_SIZE, input_shape=(None,)),\n",
    "    Conv1D(filters=32, kernel_size=5, padding='same', activation='sigmoid'),\n",
    "    MaxPooling1D(pool_size=2),\n",
    "    LSTM(50),\n",
    "    Dropout(0.2), \n",
    "    Dense(256, activation='sigmoid'), \n",
    "    Dense(3, activation='softmax')\n",
    "])\n",
    "model.compile(loss='categorical_crossentropy', optimizer='adam', metrics=['accuracy'])\n",
    "model.summary()"
   ]
  },
  {
   "cell_type": "code",
   "execution_count": null,
   "metadata": {
    "scrolled": true
   },
   "outputs": [],
   "source": [
    "history = model.fit(train_x, train_y,\n",
    "                    epochs=10,\n",
    "                    batch_size=64,\n",
    "                    validation_data=(test_x, test_y),\n",
    "                    verbose=1)"
   ]
  },
  {
   "cell_type": "markdown",
   "metadata": {},
   "source": [
    "# 결과"
   ]
  },
  {
   "cell_type": "code",
   "execution_count": 11,
   "metadata": {},
   "outputs": [
    {
     "data": {
      "image/png": "[encoded data removed]",
      "text/plain": [
       "<Figure size 432x288 with 2 Axes>"
      ]
     },
     "metadata": {
      "needs_background": "light"
     },
     "output_type": "display_data"
    }
   ],
   "source": [
    "fig, loss_ax = plt.subplots()\n",
    "acc_ax = loss_ax.twinx()\n",
    "\n",
    "loss_ax.plot(history.history['loss'], 'y', label='train loss')\n",
    "loss_ax.plot(history.history['val_loss'], 'r', label='val loss')\n",
    "loss_ax.set_xlabel('epoch')\n",
    "loss_ax.set_ylabel('loss')\n",
    "loss_ax.legend(loc='best')\n",
    "\n",
    "acc_ax.plot(history.history['accuracy'], 'b', label='train acc')\n",
    "acc_ax.plot(history.history['val_accuracy'], 'g', label='val acc')\n",
    "acc_ax.set_ylabel('accuracy')\n",
    "acc_ax.legend(loc='lower left')\n",
    "\n",
    "plt.show()"
   ]
  },
  {
   "cell_type": "code",
   "execution_count": 12,
   "metadata": {},
   "outputs": [],
   "source": [
    "# 모델을 저장합니다.\n",
    "model.save(\"../model/emb_conv_lstm.h5\")"
   ]
  }
 ],
 "metadata": {
  "kernelspec": {
   "display_name": "Python 3",
   "language": "python",
   "name": "python3"
  },
  "language_info": {
   "codemirror_mode": {
    "name": "ipython",
    "version": 3
   },
   "file_extension": ".py",
   "mimetype": "text/x-python",
   "name": "python",
   "nbconvert_exporter": "python",
   "pygments_lexer": "ipython3",
   "version": "3.6.4"
  }
 },
 "nbformat": 4,
 "nbformat_minor": 2
}
