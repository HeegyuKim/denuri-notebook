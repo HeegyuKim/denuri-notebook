{
 "cells": [
  {
   "cell_type": "code",
   "execution_count": 1,
   "metadata": {},
   "outputs": [],
   "source": [
    "%matplotlib inline"
   ]
  },
  {
   "cell_type": "code",
   "execution_count": 2,
   "metadata": {},
   "outputs": [],
   "source": [
    "from collections import Counter\n",
    "import traceback\n",
    "\n",
    "import pandas as pd\n",
    "import numpy as np\n",
    "import matplotlib.pyplot as plt\n",
    "\n",
    "from konlpy.tag import Kkma, Mecab, Okt"
   ]
  },
  {
   "cell_type": "code",
   "execution_count": 47,
   "metadata": {},
   "outputs": [],
   "source": [
    "tagger = Okt() # Kkma()"
   ]
  },
  {
   "cell_type": "code",
   "execution_count": 5,
   "metadata": {},
   "outputs": [
    {
     "name": "stdout",
     "output_type": "stream",
     "text": [
      "CPU times: user 99.3 ms, sys: 21.9 ms, total: 121 ms\n",
      "Wall time: 135 ms\n"
     ]
    }
   ],
   "source": [
    "%%time\n",
    "data = pd.read_csv(\"../data/news_reactions_recent.csv\")\n",
    "# data = pd.read_csv(\"../data/news_reactions_tokenized.csv\")\n",
    "# data = pd.read_json(\"../data/news_reactions_tokenized.json\")"
   ]
  },
  {
   "cell_type": "code",
   "execution_count": 16,
   "metadata": {},
   "outputs": [],
   "source": [
    "data['date'] = data['published_at'].map(lambda x: x[:10])\n",
    "data.content = data.content.map(lambda x: x.strip() if x else \"\")"
   ]
  },
  {
   "cell_type": "code",
   "execution_count": 17,
   "metadata": {},
   "outputs": [
    {
     "data": {
      "text/html": [
       "<div>\n",
       "<style scoped>\n",
       "    .dataframe tbody tr th:only-of-type {\n",
       "        vertical-align: middle;\n",
       "    }\n",
       "\n",
       "    .dataframe tbody tr th {\n",
       "        vertical-align: top;\n",
       "    }\n",
       "\n",
       "    .dataframe thead th {\n",
       "        text-align: right;\n",
       "    }\n",
       "</style>\n",
       "<table border=\"1\" class=\"dataframe\">\n",
       "  <thead>\n",
       "    <tr style=\"text-align: right;\">\n",
       "      <th></th>\n",
       "      <th>aid</th>\n",
       "      <th>sid</th>\n",
       "      <th>oid</th>\n",
       "      <th>title</th>\n",
       "      <th>content</th>\n",
       "      <th>scraped_at</th>\n",
       "      <th>published_at</th>\n",
       "      <th>comment_count</th>\n",
       "      <th>good</th>\n",
       "      <th>warm</th>\n",
       "      <th>sad</th>\n",
       "      <th>angry</th>\n",
       "      <th>want</th>\n",
       "      <th>date</th>\n",
       "      <th>total</th>\n",
       "    </tr>\n",
       "  </thead>\n",
       "  <tbody>\n",
       "    <tr>\n",
       "      <th>0</th>\n",
       "      <td>318</td>\n",
       "      <td>102</td>\n",
       "      <td>607</td>\n",
       "      <td>[전두환 프로젝트] ④ 연희동 집 가구세트도 막대한 세금으로 구입 : 네이버 뉴스</td>\n",
       "      <td>----------\\n1988년 2월 대통령 자리에서 물러난 전두환이 별도의 ‘전직...</td>\n",
       "      <td>2019-09-09 11:22:07</td>\n",
       "      <td>2019.09.09. 오전 11:17</td>\n",
       "      <td>NaN</td>\n",
       "      <td>0</td>\n",
       "      <td>0</td>\n",
       "      <td>0</td>\n",
       "      <td>6</td>\n",
       "      <td>2</td>\n",
       "      <td>2019.09.09</td>\n",
       "      <td>8</td>\n",
       "    </tr>\n",
       "    <tr>\n",
       "      <th>1</th>\n",
       "      <td>320</td>\n",
       "      <td>102</td>\n",
       "      <td>607</td>\n",
       "      <td>식약처, 존슨앤드존슨 제품은 빼고 '암 위험 인공유방 퇴출' : 네이버 뉴스</td>\n",
       "      <td>식품의약품안전처가 암 발병 사례가 보고된 인공유방 보형물이 리콜되고 한 달이 지나서...</td>\n",
       "      <td>2019-09-10 14:20:49</td>\n",
       "      <td>2019.09.10. 오후 2:10</td>\n",
       "      <td>NaN</td>\n",
       "      <td>0</td>\n",
       "      <td>0</td>\n",
       "      <td>0</td>\n",
       "      <td>14</td>\n",
       "      <td>0</td>\n",
       "      <td>2019.09.10</td>\n",
       "      <td>14</td>\n",
       "    </tr>\n",
       "    <tr>\n",
       "      <th>2</th>\n",
       "      <td>5854</td>\n",
       "      <td>103</td>\n",
       "      <td>584</td>\n",
       "      <td>달걀·견과류 아침 '공복'에 먹어야 효과 : 네이버 뉴스</td>\n",
       "      <td>항산화제로 알려진 비타민E의 흡수율을 높이려면 아침식사 때 달걀, 견과류 등 지질이...</td>\n",
       "      <td>2019-09-09 15:20:40</td>\n",
       "      <td>2019.09.09. 오후 2:53</td>\n",
       "      <td>NaN</td>\n",
       "      <td>22</td>\n",
       "      <td>1</td>\n",
       "      <td>0</td>\n",
       "      <td>4</td>\n",
       "      <td>2</td>\n",
       "      <td>2019.09.09</td>\n",
       "      <td>29</td>\n",
       "    </tr>\n",
       "    <tr>\n",
       "      <th>3</th>\n",
       "      <td>5860</td>\n",
       "      <td>103</td>\n",
       "      <td>584</td>\n",
       "      <td>'건강 망치는 뱃살' 여성이 더 위험해요 : 네이버 뉴스</td>\n",
       "      <td>배꼽을 깊숙하게 만들 만큼  퉁퉁한 뱃살은 대부분 내장지방으로 당뇨병과 심혈관질환을...</td>\n",
       "      <td>2019-09-10 06:40:25</td>\n",
       "      <td>2019.09.10. 오전 4:00</td>\n",
       "      <td>NaN</td>\n",
       "      <td>5</td>\n",
       "      <td>0</td>\n",
       "      <td>2</td>\n",
       "      <td>0</td>\n",
       "      <td>1</td>\n",
       "      <td>2019.09.10</td>\n",
       "      <td>8</td>\n",
       "    </tr>\n",
       "    <tr>\n",
       "      <th>4</th>\n",
       "      <td>5868</td>\n",
       "      <td>105</td>\n",
       "      <td>584</td>\n",
       "      <td>한국 첫 달 탐사계획 다시 또 연기…2022년 7월 궤도선 발사(종합) : 네이버 뉴스</td>\n",
       "      <td>한국 최초 달탐사선(궤도선) 발사 계획이 당초보다 19개월 순연돼 2022년 7월로...</td>\n",
       "      <td>2019-09-10 12:40:48</td>\n",
       "      <td>2019.09.10. 오전 11:56</td>\n",
       "      <td>NaN</td>\n",
       "      <td>4</td>\n",
       "      <td>1</td>\n",
       "      <td>2</td>\n",
       "      <td>78</td>\n",
       "      <td>1</td>\n",
       "      <td>2019.09.10</td>\n",
       "      <td>86</td>\n",
       "    </tr>\n",
       "  </tbody>\n",
       "</table>\n",
       "</div>"
      ],
      "text/plain": [
       "    aid  sid  oid                                             title  \\\n",
       "0   318  102  607     [전두환 프로젝트] ④ 연희동 집 가구세트도 막대한 세금으로 구입 : 네이버 뉴스   \n",
       "1   320  102  607        식약처, 존슨앤드존슨 제품은 빼고 '암 위험 인공유방 퇴출' : 네이버 뉴스   \n",
       "2  5854  103  584                   달걀·견과류 아침 '공복'에 먹어야 효과 : 네이버 뉴스   \n",
       "3  5860  103  584                   '건강 망치는 뱃살' 여성이 더 위험해요 : 네이버 뉴스   \n",
       "4  5868  105  584  한국 첫 달 탐사계획 다시 또 연기…2022년 7월 궤도선 발사(종합) : 네이버 뉴스   \n",
       "\n",
       "                                             content           scraped_at  \\\n",
       "0  ----------\\n1988년 2월 대통령 자리에서 물러난 전두환이 별도의 ‘전직...  2019-09-09 11:22:07   \n",
       "1  식품의약품안전처가 암 발병 사례가 보고된 인공유방 보형물이 리콜되고 한 달이 지나서...  2019-09-10 14:20:49   \n",
       "2  항산화제로 알려진 비타민E의 흡수율을 높이려면 아침식사 때 달걀, 견과류 등 지질이...  2019-09-09 15:20:40   \n",
       "3  배꼽을 깊숙하게 만들 만큼  퉁퉁한 뱃살은 대부분 내장지방으로 당뇨병과 심혈관질환을...  2019-09-10 06:40:25   \n",
       "4  한국 최초 달탐사선(궤도선) 발사 계획이 당초보다 19개월 순연돼 2022년 7월로...  2019-09-10 12:40:48   \n",
       "\n",
       "           published_at  comment_count  good  warm  sad  angry  want  \\\n",
       "0  2019.09.09. 오전 11:17            NaN     0     0    0      6     2   \n",
       "1   2019.09.10. 오후 2:10            NaN     0     0    0     14     0   \n",
       "2   2019.09.09. 오후 2:53            NaN    22     1    0      4     2   \n",
       "3   2019.09.10. 오전 4:00            NaN     5     0    2      0     1   \n",
       "4  2019.09.10. 오전 11:56            NaN     4     1    2     78     1   \n",
       "\n",
       "         date  total  \n",
       "0  2019.09.09      8  \n",
       "1  2019.09.10     14  \n",
       "2  2019.09.09     29  \n",
       "3  2019.09.10      8  \n",
       "4  2019.09.10     86  "
      ]
     },
     "execution_count": 17,
     "metadata": {},
     "output_type": "execute_result"
    }
   ],
   "source": [
    "data.head()"
   ]
  },
  {
   "cell_type": "code",
   "execution_count": 15,
   "metadata": {},
   "outputs": [
    {
     "data": {
      "text/html": [
       "<div>\n",
       "<style scoped>\n",
       "    .dataframe tbody tr th:only-of-type {\n",
       "        vertical-align: middle;\n",
       "    }\n",
       "\n",
       "    .dataframe tbody tr th {\n",
       "        vertical-align: top;\n",
       "    }\n",
       "\n",
       "    .dataframe thead th {\n",
       "        text-align: right;\n",
       "    }\n",
       "</style>\n",
       "<table border=\"1\" class=\"dataframe\">\n",
       "  <thead>\n",
       "    <tr style=\"text-align: right;\">\n",
       "      <th></th>\n",
       "      <th>aid</th>\n",
       "      <th>sid</th>\n",
       "      <th>oid</th>\n",
       "      <th>comment_count</th>\n",
       "      <th>good</th>\n",
       "      <th>warm</th>\n",
       "      <th>sad</th>\n",
       "      <th>angry</th>\n",
       "      <th>want</th>\n",
       "      <th>total</th>\n",
       "    </tr>\n",
       "  </thead>\n",
       "  <tbody>\n",
       "    <tr>\n",
       "      <th>count</th>\n",
       "      <td>2.302000e+03</td>\n",
       "      <td>2302.000000</td>\n",
       "      <td>2302.000000</td>\n",
       "      <td>0.0</td>\n",
       "      <td>2302.000000</td>\n",
       "      <td>2302.000000</td>\n",
       "      <td>2302.000000</td>\n",
       "      <td>2302.000000</td>\n",
       "      <td>2302.000000</td>\n",
       "      <td>2302.000000</td>\n",
       "    </tr>\n",
       "    <tr>\n",
       "      <th>mean</th>\n",
       "      <td>3.989582e+06</td>\n",
       "      <td>101.943527</td>\n",
       "      <td>100.466985</td>\n",
       "      <td>NaN</td>\n",
       "      <td>162.328844</td>\n",
       "      <td>2.101651</td>\n",
       "      <td>7.661164</td>\n",
       "      <td>405.619896</td>\n",
       "      <td>4.766290</td>\n",
       "      <td>582.477845</td>\n",
       "    </tr>\n",
       "    <tr>\n",
       "      <th>std</th>\n",
       "      <td>3.380042e+06</td>\n",
       "      <td>3.367448</td>\n",
       "      <td>148.037968</td>\n",
       "      <td>NaN</td>\n",
       "      <td>952.484992</td>\n",
       "      <td>6.020760</td>\n",
       "      <td>58.418152</td>\n",
       "      <td>2044.588039</td>\n",
       "      <td>15.370497</td>\n",
       "      <td>2411.667917</td>\n",
       "    </tr>\n",
       "    <tr>\n",
       "      <th>min</th>\n",
       "      <td>3.180000e+02</td>\n",
       "      <td>1.000000</td>\n",
       "      <td>1.000000</td>\n",
       "      <td>NaN</td>\n",
       "      <td>0.000000</td>\n",
       "      <td>0.000000</td>\n",
       "      <td>0.000000</td>\n",
       "      <td>0.000000</td>\n",
       "      <td>0.000000</td>\n",
       "      <td>0.000000</td>\n",
       "    </tr>\n",
       "    <tr>\n",
       "      <th>25%</th>\n",
       "      <td>1.381000e+06</td>\n",
       "      <td>101.000000</td>\n",
       "      <td>14.000000</td>\n",
       "      <td>NaN</td>\n",
       "      <td>2.000000</td>\n",
       "      <td>0.000000</td>\n",
       "      <td>0.000000</td>\n",
       "      <td>1.000000</td>\n",
       "      <td>0.000000</td>\n",
       "      <td>7.000000</td>\n",
       "    </tr>\n",
       "    <tr>\n",
       "      <th>50%</th>\n",
       "      <td>3.240051e+06</td>\n",
       "      <td>102.000000</td>\n",
       "      <td>25.000000</td>\n",
       "      <td>NaN</td>\n",
       "      <td>7.000000</td>\n",
       "      <td>0.000000</td>\n",
       "      <td>0.000000</td>\n",
       "      <td>11.000000</td>\n",
       "      <td>1.000000</td>\n",
       "      <td>38.000000</td>\n",
       "    </tr>\n",
       "    <tr>\n",
       "      <th>75%</th>\n",
       "      <td>4.465219e+06</td>\n",
       "      <td>103.000000</td>\n",
       "      <td>81.000000</td>\n",
       "      <td>NaN</td>\n",
       "      <td>40.000000</td>\n",
       "      <td>2.000000</td>\n",
       "      <td>2.000000</td>\n",
       "      <td>103.750000</td>\n",
       "      <td>3.000000</td>\n",
       "      <td>251.000000</td>\n",
       "    </tr>\n",
       "    <tr>\n",
       "      <th>max</th>\n",
       "      <td>1.107595e+07</td>\n",
       "      <td>105.000000</td>\n",
       "      <td>607.000000</td>\n",
       "      <td>NaN</td>\n",
       "      <td>27517.000000</td>\n",
       "      <td>85.000000</td>\n",
       "      <td>1894.000000</td>\n",
       "      <td>50444.000000</td>\n",
       "      <td>253.000000</td>\n",
       "      <td>52982.000000</td>\n",
       "    </tr>\n",
       "  </tbody>\n",
       "</table>\n",
       "</div>"
      ],
      "text/plain": [
       "                aid          sid          oid  comment_count          good  \\\n",
       "count  2.302000e+03  2302.000000  2302.000000            0.0   2302.000000   \n",
       "mean   3.989582e+06   101.943527   100.466985            NaN    162.328844   \n",
       "std    3.380042e+06     3.367448   148.037968            NaN    952.484992   \n",
       "min    3.180000e+02     1.000000     1.000000            NaN      0.000000   \n",
       "25%    1.381000e+06   101.000000    14.000000            NaN      2.000000   \n",
       "50%    3.240051e+06   102.000000    25.000000            NaN      7.000000   \n",
       "75%    4.465219e+06   103.000000    81.000000            NaN     40.000000   \n",
       "max    1.107595e+07   105.000000   607.000000            NaN  27517.000000   \n",
       "\n",
       "              warm          sad         angry         want         total  \n",
       "count  2302.000000  2302.000000   2302.000000  2302.000000   2302.000000  \n",
       "mean      2.101651     7.661164    405.619896     4.766290    582.477845  \n",
       "std       6.020760    58.418152   2044.588039    15.370497   2411.667917  \n",
       "min       0.000000     0.000000      0.000000     0.000000      0.000000  \n",
       "25%       0.000000     0.000000      1.000000     0.000000      7.000000  \n",
       "50%       0.000000     0.000000     11.000000     1.000000     38.000000  \n",
       "75%       2.000000     2.000000    103.750000     3.000000    251.000000  \n",
       "max      85.000000  1894.000000  50444.000000   253.000000  52982.000000  "
      ]
     },
     "execution_count": 15,
     "metadata": {},
     "output_type": "execute_result"
    }
   ],
   "source": [
    "data.describe()"
   ]
  },
  {
   "cell_type": "raw",
   "metadata": {},
   "source": [
    "기본 분석\n",
    "날짜별 개수"
   ]
  },
  {
   "cell_type": "code",
   "execution_count": 20,
   "metadata": {},
   "outputs": [
    {
     "data": {
      "image/png": "[encoded data removed]",
      "text/plain": [
       "<Figure size 432x288 with 1 Axes>"
      ]
     },
     "metadata": {
      "needs_background": "light"
     },
     "output_type": "display_data"
    }
   ],
   "source": [
    "plt.hist(data.date)\n",
    "plt.show()"
   ]
  },
  {
   "cell_type": "markdown",
   "metadata": {},
   "source": [
    "## 텍스트 분석\n",
    "제목 평균길이<br>\n",
    "내용 평균길이<br>\n",
    "토큰 길이 분석"
   ]
  },
  {
   "cell_type": "code",
   "execution_count": 53,
   "metadata": {
    "scrolled": true
   },
   "outputs": [
    {
     "name": "stdout",
     "output_type": "stream",
     "text": [
      "CPU times: user 1min 57s, sys: 964 ms, total: 1min 58s\n",
      "Wall time: 2min\n"
     ]
    }
   ],
   "source": [
    "%%time \n",
    "\n",
    "allowed_pos = [\n",
    "    'Noun', 'Verb', 'Adjective', 'Adverb', 'Alpha', 'Determiner', 'Exclamation'\n",
    "    , 'Suffix', 'PreEomi', 'Unknown'\n",
    "]\n",
    "def try_tagging(x):\n",
    "    x = x.strip() if x else \"\"\n",
    "    tokens = tagger.pos(x)\n",
    "    tokens = filter(lambda x: x[1] in allowed_pos, tokens)\n",
    "    tokens = map(lambda x: x[0], tokens)\n",
    "    return list(tokens)\n",
    "\n",
    "# print(tagger.tagset)\n",
    "# print(\" \".join(try_tagging(data.content[1])))\n",
    "data['title_len'] = data['title'].map(lambda x: len(x))\n",
    "data['content_len'] = data['content'].map(lambda x: len(x))\n",
    "data['title_token'] = data.title.map(try_tagging)\n",
    "data['title_token_len'] = data.title_token.map(lambda x: len(x))\n",
    "data['content_token'] = data.content.map(try_tagging)\n",
    "data['content_token_len'] = data.content_token.map(lambda x: len(x))"
   ]
  },
  {
   "cell_type": "code",
   "execution_count": 54,
   "metadata": {},
   "outputs": [
    {
     "name": "stdout",
     "output_type": "stream",
     "text": [
      "0     [전두환, 프로젝트, 연희동, 집, 가구, 세트, 막대, 세금, 구입, 네이버, 뉴스]\n",
      "1    [식약처, 존슨, 앤드, 존슨, 제품, 빼고, 암, 위험, 인공, 유방, 퇴, 출,...\n",
      "2                  [달걀, 견과류, 아침, 공복, 먹어야, 효과, 네이버, 뉴스]\n",
      "3                  [건강, 망치는, 뱃살, 여성, 더, 위험해요, 네이버, 뉴스]\n",
      "4    [한국, 첫, 달, 탐사, 계획, 다시, 또, 연기, 궤도선, 발사, 종합, 네이버...\n",
      "Name: title_token, dtype: object\n",
      "0    [대통령, 자리, 물러난, 전두환, 별도, 전직, 대통령, 사무실, 내지, 않았으면...\n",
      "1    [식품의약품안전처, 암, 발병, 사례, 보고, 된, 인공, 유방, 보, 형, 물이,...\n",
      "2    [항산화제, 알려진, 비타민, E, 의, 흡수, 율, 높이려면, 아침식사, 때, 달...\n",
      "3    [배꼽, 깊숙하게, 만들, 만큼, 퉁퉁, 뱃살, 대부분, 내장, 지방, 당뇨병, 심...\n",
      "4    [한국, 최초, 달, 탐사선, 궤도선, 발사, 계획, 당초, 개월, 순연, 돼, 연...\n",
      "Name: content_token, dtype: object\n"
     ]
    }
   ],
   "source": [
    "print(data['title_token'].head())\n",
    "print(data['content_token'].head())"
   ]
  },
  {
   "cell_type": "code",
   "execution_count": 55,
   "metadata": {},
   "outputs": [
    {
     "name": "stdout",
     "output_type": "stream",
     "text": [
      "Title length\n",
      "count    2302.000000\n",
      "mean       41.474370\n",
      "std         6.319674\n",
      "min        17.000000\n",
      "25%        38.000000\n",
      "50%        41.000000\n",
      "75%        45.000000\n",
      "max        90.000000\n",
      "Name: title_len, dtype: float64\n"
     ]
    },
    {
     "data": {
      "image/png": "[encoded data removed]",
      "text/plain": [
       "<Figure size 432x288 with 1 Axes>"
      ]
     },
     "metadata": {
      "needs_background": "light"
     },
     "output_type": "display_data"
    },
    {
     "name": "stdout",
     "output_type": "stream",
     "text": [
      "Title token length\n",
      "count    2302.000000\n",
      "mean       11.397480\n",
      "std         2.075425\n",
      "min         5.000000\n",
      "25%        10.000000\n",
      "50%        11.000000\n",
      "75%        13.000000\n",
      "max        27.000000\n",
      "Name: title_token_len, dtype: float64\n"
     ]
    },
    {
     "data": {
      "image/png": "[encoded data removed]",
      "text/plain": [
       "<Figure size 432x288 with 1 Axes>"
      ]
     },
     "metadata": {
      "needs_background": "light"
     },
     "output_type": "display_data"
    }
   ],
   "source": [
    "print(\"Title length\")\n",
    "print(data.title_len.describe())\n",
    "plt.title(\"Title Length Histogram\")\n",
    "plt.hist(data['title_len'], bins=10)\n",
    "plt.show()\n",
    "\n",
    "print(\"Title token length\")\n",
    "print(data.title_token_len.describe())\n",
    "plt.title(\"Title Token Length Histogram\")\n",
    "plt.hist(data['title_token_len'], bins=20)\n",
    "plt.show()"
   ]
  },
  {
   "cell_type": "code",
   "execution_count": 56,
   "metadata": {
    "scrolled": false
   },
   "outputs": [
    {
     "name": "stdout",
     "output_type": "stream",
     "text": [
      "Content length\n",
      "count     2302.000000\n",
      "mean      1466.651607\n",
      "std        849.396898\n",
      "min          0.000000\n",
      "25%        949.000000\n",
      "50%       1325.000000\n",
      "75%       1787.500000\n",
      "max      10639.000000\n",
      "Name: content_len, dtype: float64\n"
     ]
    },
    {
     "data": {
      "image/png": "[encoded data removed]",
      "text/plain": [
       "<Figure size 432x288 with 1 Axes>"
      ]
     },
     "metadata": {
      "needs_background": "light"
     },
     "output_type": "display_data"
    },
    {
     "name": "stdout",
     "output_type": "stream",
     "text": [
      "Content token length\n",
      "count    2302.000000\n",
      "mean      393.657255\n",
      "std       232.359242\n",
      "min         0.000000\n",
      "25%       251.000000\n",
      "50%       351.500000\n",
      "75%       480.000000\n",
      "max      2766.000000\n",
      "Name: content_token_len, dtype: float64\n"
     ]
    },
    {
     "data": {
      "image/png": "[encoded data removed]",
      "text/plain": [
       "<Figure size 432x288 with 1 Axes>"
      ]
     },
     "metadata": {
      "needs_background": "light"
     },
     "output_type": "display_data"
    }
   ],
   "source": [
    "print(\"Content length\")\n",
    "print(data.content_len.describe())\n",
    "plt.title(\"Content Length Histogram(under 0.95 quantile)\")\n",
    "plt.hist(data[data.content_len < data.content_len.quantile(0.95)]['content_len'], bins=50)\n",
    "plt.show()\n",
    "\n",
    "print(\"Content token length\")\n",
    "print(data.content_token_len.describe())\n",
    "plt.title(\"Content Token Length Histogram(under 0.95 quantile)\")\n",
    "plt.hist(data[data.content_token_len < data.content_token_len.quantile(0.95)] ['content_token_len'], bins=50)\n",
    "plt.show()"
   ]
  },
  {
   "cell_type": "markdown",
   "metadata": {},
   "source": [
    "## 감정 분석\n",
    "4분위 분석\n",
    "감정표현 총 합의 평균"
   ]
  },
  {
   "cell_type": "code",
   "execution_count": 57,
   "metadata": {},
   "outputs": [],
   "source": [
    "reactions = data[['good', 'warm', 'sad', 'angry', 'want']]\n",
    "total = reactions.sum(axis=1)\n",
    "pos = data[['good', 'warm']].sum(axis=1)\n",
    "neg = data.angry"
   ]
  },
  {
   "cell_type": "code",
   "execution_count": 58,
   "metadata": {},
   "outputs": [
    {
     "name": "stdout",
     "output_type": "stream",
     "text": [
      "Total Reactions\n",
      "count     2302.000000\n",
      "mean       582.477845\n",
      "std       2411.667917\n",
      "min          0.000000\n",
      "25%          7.000000\n",
      "50%         38.000000\n",
      "75%        251.000000\n",
      "max      52982.000000\n",
      "dtype: float64\n"
     ]
    },
    {
     "data": {
      "image/png": "[encoded data removed]",
      "text/plain": [
       "<Figure size 432x288 with 1 Axes>"
      ]
     },
     "metadata": {
      "needs_background": "light"
     },
     "output_type": "display_data"
    },
    {
     "name": "stdout",
     "output_type": "stream",
     "text": [
      "Positive Reactions(Good,Warm)\n",
      "count     2302.000000\n",
      "mean       164.430495\n",
      "std        955.986231\n",
      "min          0.000000\n",
      "25%          2.000000\n",
      "50%          7.000000\n",
      "75%         42.000000\n",
      "max      27588.000000\n",
      "dtype: float64\n"
     ]
    },
    {
     "data": {
      "image/png": "[encoded data removed]",
      "text/plain": [
       "<Figure size 432x288 with 1 Axes>"
      ]
     },
     "metadata": {
      "needs_background": "light"
     },
     "output_type": "display_data"
    },
    {
     "name": "stdout",
     "output_type": "stream",
     "text": [
      "Negative Reactions(Sad, Angry)\n",
      "count     2302.000000\n",
      "mean       405.619896\n",
      "std       2044.588039\n",
      "min          0.000000\n",
      "25%          1.000000\n",
      "50%         11.000000\n",
      "75%        103.750000\n",
      "max      50444.000000\n",
      "Name: angry, dtype: float64\n"
     ]
    },
    {
     "data": {
      "image/png": "[encoded data removed]",
      "text/plain": [
       "<Figure size 432x288 with 1 Axes>"
      ]
     },
     "metadata": {
      "needs_background": "light"
     },
     "output_type": "display_data"
    }
   ],
   "source": [
    "print(\"Total Reactions\")\n",
    "print(total.describe())\n",
    "plt.title(\"Total Reaction Histogram(under 0.95 quantile)\")\n",
    "plt.hist(total[total < total.quantile(0.95)] , \n",
    "         bins=30, ## 몇 개의 바구니로 구분할 것인가. \n",
    "         density=True, ## ytick을 퍼센트비율로 표현해줌 \n",
    "         cumulative=False, ## 누적으로 표현하고 싶을 때는 True\n",
    "         histtype='bar',  ## 타입. or step으로 하면 모양이 바뀜.  \n",
    "         orientation='vertical', ## or horizontal\n",
    "         rwidth=0.8, ## 1.0일 경우, 꽉 채움 작아질수록 간격이 생김\n",
    "         color='hotpink', ## bar 색깔\n",
    "        )\n",
    "plt.show()\n",
    "print(\"Positive Reactions(Good,Warm)\")\n",
    "print(pos.describe())\n",
    "plt.title(\"Positive Reaction Histogram(under 0.95 quantile)\")\n",
    "plt.hist(pos[pos < pos.quantile(0.95)] , \n",
    "         bins=30, ## 몇 개의 바구니로 구분할 것인가. \n",
    "         density=True, ## ytick을 퍼센트비율로 표현해줌 \n",
    "         cumulative=False, ## 누적으로 표현하고 싶을 때는 True\n",
    "         histtype='bar',  ## 타입. or step으로 하면 모양이 바뀜.  \n",
    "         orientation='vertical', ## or horizontal\n",
    "         rwidth=0.8, ## 1.0일 경우, 꽉 채움 작아질수록 간격이 생김\n",
    "         color='hotpink', ## bar 색깔\n",
    "        )\n",
    "plt.show()\n",
    "print(\"Negative Reactions(Sad, Angry)\")\n",
    "print(neg.describe())\n",
    "plt.title(\"Total Reaction Histogram(under 0.95 quantile)\")\n",
    "plt.hist(neg[neg < neg.quantile(0.95)] , \n",
    "         bins=30, ## 몇 개의 바구니로 구분할 것인가. \n",
    "         density=True, ## ytick을 퍼센트비율로 표현해줌 \n",
    "         cumulative=False, ## 누적으로 표현하고 싶을 때는 True\n",
    "         histtype='bar',  ## 타입. or step으로 하면 모양이 바뀜.  \n",
    "         orientation='vertical', ## or horizontal\n",
    "         rwidth=0.8, ## 1.0일 경우, 꽉 채움 작아질수록 간격이 생김\n",
    "         color='hotpink', ## bar 색깔\n",
    "        )\n",
    "plt.show()"
   ]
  },
  {
   "cell_type": "code",
   "execution_count": 59,
   "metadata": {},
   "outputs": [],
   "source": [
    "category_label = ['pos', 'neg', 'unk']\n",
    "category = []\n",
    "for i in range(len(data)):\n",
    "    r = 2\n",
    "    p = pos[i]\n",
    "    n = neg[i]\n",
    "    \n",
    "    if p + n >= 5 and abs(p - n) > 5:\n",
    "        r = 0 if p > n else 1\n",
    "    else:\n",
    "        r = 2\n",
    "        \n",
    "    category.append(r)"
   ]
  },
  {
   "cell_type": "code",
   "execution_count": 60,
   "metadata": {},
   "outputs": [
    {
     "data": {
      "image/png": "[encoded data removed]",
      "text/plain": [
       "<Figure size 432x288 with 1 Axes>"
      ]
     },
     "metadata": {
      "needs_background": "light"
     },
     "output_type": "display_data"
    }
   ],
   "source": [
    "plt.title(\"Pos, Neg, Natural Histogram\")\n",
    "plt.hist(list(map(lambda x: category_label[x], category)))\n",
    "plt.show()"
   ]
  },
  {
   "cell_type": "code",
   "execution_count": 61,
   "metadata": {},
   "outputs": [],
   "source": [
    "data['reaction_category'] = category"
   ]
  },
  {
   "cell_type": "code",
   "execution_count": 62,
   "metadata": {},
   "outputs": [],
   "source": [
    "# 전처리 결과 저장\n",
    "preprocessed_labels = [\n",
    "    'title_token',\n",
    "    'content_token',\n",
    "    'reaction_category'\n",
    "]\n",
    "data[preprocessed_labels].to_json(\"../data/news_reactions_recent_preprocessed.json\")"
   ]
  }
 ],
 "metadata": {
  "kernelspec": {
   "display_name": "Python 3",
   "language": "python",
   "name": "python3"
  },
  "language_info": {
   "codemirror_mode": {
    "name": "ipython",
    "version": 3
   },
   "file_extension": ".py",
   "mimetype": "text/x-python",
   "name": "python",
   "nbconvert_exporter": "python",
   "pygments_lexer": "ipython3",
   "version": "3.6.4"
  }
 },
 "nbformat": 4,
 "nbformat_minor": 2
}
