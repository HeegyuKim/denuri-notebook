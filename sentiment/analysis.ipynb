{
 "cells": [
  {
   "cell_type": "code",
   "execution_count": 1,
   "metadata": {},
   "outputs": [],
   "source": [
    "%matplotlib inline"
   ]
  },
  {
   "cell_type": "code",
   "execution_count": 2,
   "metadata": {},
   "outputs": [],
   "source": [
    "from collections import Counter\n",
    "import traceback\n",
    "import json\n",
    "\n",
    "import pandas as pd\n",
    "import numpy as np\n",
    "import matplotlib.pyplot as plt\n",
    "from matplotlib.ticker import PercentFormatter\n",
    "\n",
    "from konlpy.tag import Kkma, Mecab, Okt"
   ]
  },
  {
   "cell_type": "code",
   "execution_count": 3,
   "metadata": {},
   "outputs": [
    {
     "name": "stderr",
     "output_type": "stream",
     "text": [
      "/Users/heegyukim/.pyenv/versions/3.6.5/envs/denuri/lib/python3.6/site-packages/jpype/_core.py:210: UserWarning: \n",
      "-------------------------------------------------------------------------------\n",
      "Deprecated: convertStrings was not specified when starting the JVM. The default\n",
      "behavior in JPype will be False starting in JPype 0.8. The recommended setting\n",
      "for new code is convertStrings=False.  The legacy value of True was assumed for\n",
      "this session. If you are a user of an application that reported this warning,\n",
      "please file a ticket with the developer.\n",
      "-------------------------------------------------------------------------------\n",
      "\n",
      "  \"\"\")\n"
     ]
    }
   ],
   "source": [
    "tagger = Okt() # Kkma()"
   ]
  },
  {
   "cell_type": "code",
   "execution_count": 4,
   "metadata": {},
   "outputs": [
    {
     "name": "stdout",
     "output_type": "stream",
     "text": [
      "CPU times: user 7.35 s, sys: 994 ms, total: 8.34 s\n",
      "Wall time: 8.92 s\n"
     ]
    }
   ],
   "source": [
    "%%time\n",
    "with open(\"../output.jsl\") as f:\n",
    "    lines = f.readlines()\n",
    "    data = pd.DataFrame([json.loads(x) for x in lines])\n",
    "# data = pd.read_csv(\"../data/news_reactions_tokenized.csv\")\n",
    "# data = pd.read_json(\"../data/news_reactions_tokenized.json\")"
   ]
  },
  {
   "cell_type": "code",
   "execution_count": 5,
   "metadata": {
    "scrolled": true
   },
   "outputs": [
    {
     "data": {
      "text/html": [
       "<div>\n",
       "<style scoped>\n",
       "    .dataframe tbody tr th:only-of-type {\n",
       "        vertical-align: middle;\n",
       "    }\n",
       "\n",
       "    .dataframe tbody tr th {\n",
       "        vertical-align: top;\n",
       "    }\n",
       "\n",
       "    .dataframe thead th {\n",
       "        text-align: right;\n",
       "    }\n",
       "</style>\n",
       "<table border=\"1\" class=\"dataframe\">\n",
       "  <thead>\n",
       "    <tr style=\"text-align: right;\">\n",
       "      <th></th>\n",
       "      <th>aid</th>\n",
       "      <th>sid</th>\n",
       "      <th>oid</th>\n",
       "      <th>title</th>\n",
       "      <th>content</th>\n",
       "      <th>scraped_at</th>\n",
       "      <th>published_at</th>\n",
       "      <th>comment_count</th>\n",
       "      <th>r.aid</th>\n",
       "      <th>good</th>\n",
       "      <th>warm</th>\n",
       "      <th>sad</th>\n",
       "      <th>angry</th>\n",
       "      <th>want</th>\n",
       "    </tr>\n",
       "  </thead>\n",
       "  <tbody>\n",
       "    <tr>\n",
       "      <th>0</th>\n",
       "      <td>0000000091</td>\n",
       "      <td>102</td>\n",
       "      <td>629</td>\n",
       "      <td>서초동 촛불집회, 오늘(28일) '찬성vs반대' 맞불 : 네이버 뉴스</td>\n",
       "      <td>\\n\\t\\n\\n\\t\\n\\n\\n\\n\\n\\n\\n\\t\\n\\t\\n[더팩트ㅣ성강현 기자] 이...</td>\n",
       "      <td>2019-09-28T02:42:15</td>\n",
       "      <td>2019.09.28. 오전 12:01</td>\n",
       "      <td>None</td>\n",
       "      <td>0000000091</td>\n",
       "      <td>46</td>\n",
       "      <td>2</td>\n",
       "      <td>2</td>\n",
       "      <td>241</td>\n",
       "      <td>1</td>\n",
       "    </tr>\n",
       "    <tr>\n",
       "      <th>1</th>\n",
       "      <td>0000000304</td>\n",
       "      <td>101</td>\n",
       "      <td>629</td>\n",
       "      <td>우리·하나은행, 안전자산 예금 선호 고객 노려 DLF 팔았다 : 네이버 뉴스</td>\n",
       "      <td>\\n\\t\\n\\n\\t\\n\\n\\n\\n\\n\\n\\n\\t\\n\\t\\n[더팩트｜이지선 기자] 대...</td>\n",
       "      <td>2019-10-01T17:02:10</td>\n",
       "      <td>2019.10.01. 오후 4:49</td>\n",
       "      <td>None</td>\n",
       "      <td>0000000304</td>\n",
       "      <td>0</td>\n",
       "      <td>0</td>\n",
       "      <td>0</td>\n",
       "      <td>2</td>\n",
       "      <td>1</td>\n",
       "    </tr>\n",
       "    <tr>\n",
       "      <th>2</th>\n",
       "      <td>0000000318</td>\n",
       "      <td>102</td>\n",
       "      <td>607</td>\n",
       "      <td>[전두환 프로젝트] ④ 연희동 집 가구세트도 막대한 세금으로 구입 : 네이버 뉴스</td>\n",
       "      <td>\\n\\t\\n\\n\\t\\n\\n\\n\\n\\n\\n\\n\\t\\n\\t\\n\\t\\n----------...</td>\n",
       "      <td>2019-09-09T11:22:07</td>\n",
       "      <td>2019.09.09. 오전 11:17</td>\n",
       "      <td>None</td>\n",
       "      <td>0000000318</td>\n",
       "      <td>0</td>\n",
       "      <td>0</td>\n",
       "      <td>0</td>\n",
       "      <td>6</td>\n",
       "      <td>2</td>\n",
       "    </tr>\n",
       "    <tr>\n",
       "      <th>3</th>\n",
       "      <td>0000000320</td>\n",
       "      <td>102</td>\n",
       "      <td>607</td>\n",
       "      <td>식약처, 존슨앤드존슨 제품은 빼고 '암 위험 인공유방 퇴출' : 네이버 뉴스</td>\n",
       "      <td>\\n\\t\\n\\n\\t\\n\\n\\n\\n\\n\\n\\n\\t\\n\\t\\n식품의약품안전처가 암 발병...</td>\n",
       "      <td>2019-09-10T14:20:49</td>\n",
       "      <td>2019.09.10. 오후 2:10</td>\n",
       "      <td>None</td>\n",
       "      <td>0000000320</td>\n",
       "      <td>0</td>\n",
       "      <td>0</td>\n",
       "      <td>0</td>\n",
       "      <td>14</td>\n",
       "      <td>0</td>\n",
       "    </tr>\n",
       "    <tr>\n",
       "      <th>4</th>\n",
       "      <td>0000000341</td>\n",
       "      <td>102</td>\n",
       "      <td>607</td>\n",
       "      <td>알고도 덮었나?...HDC신라면세점 밀수 은폐 의혹 : 네이버 뉴스</td>\n",
       "      <td>\\n\\t\\n\\n\\t\\n\\n\\n\\n\\n\\n\\n\\t\\n\\t\\n관세청이 HDC신라면세점 ...</td>\n",
       "      <td>2019-10-08T17:41:46</td>\n",
       "      <td>2019.10.08. 오후 5:26</td>\n",
       "      <td>None</td>\n",
       "      <td>0000000341</td>\n",
       "      <td>0</td>\n",
       "      <td>2</td>\n",
       "      <td>0</td>\n",
       "      <td>3</td>\n",
       "      <td>1</td>\n",
       "    </tr>\n",
       "  </tbody>\n",
       "</table>\n",
       "</div>"
      ],
      "text/plain": [
       "          aid  sid  oid                                          title  \\\n",
       "0  0000000091  102  629         서초동 촛불집회, 오늘(28일) '찬성vs반대' 맞불 : 네이버 뉴스   \n",
       "1  0000000304  101  629     우리·하나은행, 안전자산 예금 선호 고객 노려 DLF 팔았다 : 네이버 뉴스   \n",
       "2  0000000318  102  607  [전두환 프로젝트] ④ 연희동 집 가구세트도 막대한 세금으로 구입 : 네이버 뉴스   \n",
       "3  0000000320  102  607     식약처, 존슨앤드존슨 제품은 빼고 '암 위험 인공유방 퇴출' : 네이버 뉴스   \n",
       "4  0000000341  102  607          알고도 덮었나?...HDC신라면세점 밀수 은폐 의혹 : 네이버 뉴스   \n",
       "\n",
       "                                             content           scraped_at  \\\n",
       "0  \\n\\t\\n\\n\\t\\n\\n\\n\\n\\n\\n\\n\\t\\n\\t\\n[더팩트ㅣ성강현 기자] 이...  2019-09-28T02:42:15   \n",
       "1  \\n\\t\\n\\n\\t\\n\\n\\n\\n\\n\\n\\n\\t\\n\\t\\n[더팩트｜이지선 기자] 대...  2019-10-01T17:02:10   \n",
       "2  \\n\\t\\n\\n\\t\\n\\n\\n\\n\\n\\n\\n\\t\\n\\t\\n\\t\\n----------...  2019-09-09T11:22:07   \n",
       "3  \\n\\t\\n\\n\\t\\n\\n\\n\\n\\n\\n\\n\\t\\n\\t\\n식품의약품안전처가 암 발병...  2019-09-10T14:20:49   \n",
       "4  \\n\\t\\n\\n\\t\\n\\n\\n\\n\\n\\n\\n\\t\\n\\t\\n관세청이 HDC신라면세점 ...  2019-10-08T17:41:46   \n",
       "\n",
       "           published_at comment_count       r.aid  good  warm  sad  angry  \\\n",
       "0  2019.09.28. 오전 12:01          None  0000000091    46     2    2    241   \n",
       "1   2019.10.01. 오후 4:49          None  0000000304     0     0    0      2   \n",
       "2  2019.09.09. 오전 11:17          None  0000000318     0     0    0      6   \n",
       "3   2019.09.10. 오후 2:10          None  0000000320     0     0    0     14   \n",
       "4   2019.10.08. 오후 5:26          None  0000000341     0     2    0      3   \n",
       "\n",
       "   want  \n",
       "0     1  \n",
       "1     1  \n",
       "2     2  \n",
       "3     0  \n",
       "4     1  "
      ]
     },
     "execution_count": 5,
     "metadata": {},
     "output_type": "execute_result"
    }
   ],
   "source": [
    "data.head()"
   ]
  },
  {
   "cell_type": "code",
   "execution_count": 6,
   "metadata": {},
   "outputs": [],
   "source": [
    "data['date'] = data['published_at'].map(lambda x: x[:10])\n",
    "data.content = data.content.map(lambda x: x.strip() if x else \"\")"
   ]
  },
  {
   "cell_type": "code",
   "execution_count": 7,
   "metadata": {},
   "outputs": [
    {
     "data": {
      "text/html": [
       "<div>\n",
       "<style scoped>\n",
       "    .dataframe tbody tr th:only-of-type {\n",
       "        vertical-align: middle;\n",
       "    }\n",
       "\n",
       "    .dataframe tbody tr th {\n",
       "        vertical-align: top;\n",
       "    }\n",
       "\n",
       "    .dataframe thead th {\n",
       "        text-align: right;\n",
       "    }\n",
       "</style>\n",
       "<table border=\"1\" class=\"dataframe\">\n",
       "  <thead>\n",
       "    <tr style=\"text-align: right;\">\n",
       "      <th></th>\n",
       "      <th>aid</th>\n",
       "      <th>sid</th>\n",
       "      <th>oid</th>\n",
       "      <th>title</th>\n",
       "      <th>content</th>\n",
       "      <th>scraped_at</th>\n",
       "      <th>published_at</th>\n",
       "      <th>comment_count</th>\n",
       "      <th>r.aid</th>\n",
       "      <th>good</th>\n",
       "      <th>warm</th>\n",
       "      <th>sad</th>\n",
       "      <th>angry</th>\n",
       "      <th>want</th>\n",
       "      <th>date</th>\n",
       "    </tr>\n",
       "  </thead>\n",
       "  <tbody>\n",
       "    <tr>\n",
       "      <th>0</th>\n",
       "      <td>0000000091</td>\n",
       "      <td>102</td>\n",
       "      <td>629</td>\n",
       "      <td>서초동 촛불집회, 오늘(28일) '찬성vs반대' 맞불 : 네이버 뉴스</td>\n",
       "      <td>[더팩트ㅣ성강현 기자] 이번 주말 서울 서초동에서 조국 법무부 장관 찬반 촛불집회가...</td>\n",
       "      <td>2019-09-28T02:42:15</td>\n",
       "      <td>2019.09.28. 오전 12:01</td>\n",
       "      <td>None</td>\n",
       "      <td>0000000091</td>\n",
       "      <td>46</td>\n",
       "      <td>2</td>\n",
       "      <td>2</td>\n",
       "      <td>241</td>\n",
       "      <td>1</td>\n",
       "      <td>2019.09.28</td>\n",
       "    </tr>\n",
       "    <tr>\n",
       "      <th>1</th>\n",
       "      <td>0000000304</td>\n",
       "      <td>101</td>\n",
       "      <td>629</td>\n",
       "      <td>우리·하나은행, 안전자산 예금 선호 고객 노려 DLF 팔았다 : 네이버 뉴스</td>\n",
       "      <td>[더팩트｜이지선 기자] 대량 원금 손실을 불러온 해외 주요국 금리 연계형 파생결합상...</td>\n",
       "      <td>2019-10-01T17:02:10</td>\n",
       "      <td>2019.10.01. 오후 4:49</td>\n",
       "      <td>None</td>\n",
       "      <td>0000000304</td>\n",
       "      <td>0</td>\n",
       "      <td>0</td>\n",
       "      <td>0</td>\n",
       "      <td>2</td>\n",
       "      <td>1</td>\n",
       "      <td>2019.10.01</td>\n",
       "    </tr>\n",
       "    <tr>\n",
       "      <th>2</th>\n",
       "      <td>0000000318</td>\n",
       "      <td>102</td>\n",
       "      <td>607</td>\n",
       "      <td>[전두환 프로젝트] ④ 연희동 집 가구세트도 막대한 세금으로 구입 : 네이버 뉴스</td>\n",
       "      <td>----------\\n1988년 2월 대통령 자리에서 물러난 전두환이 별도의 ‘전직...</td>\n",
       "      <td>2019-09-09T11:22:07</td>\n",
       "      <td>2019.09.09. 오전 11:17</td>\n",
       "      <td>None</td>\n",
       "      <td>0000000318</td>\n",
       "      <td>0</td>\n",
       "      <td>0</td>\n",
       "      <td>0</td>\n",
       "      <td>6</td>\n",
       "      <td>2</td>\n",
       "      <td>2019.09.09</td>\n",
       "    </tr>\n",
       "    <tr>\n",
       "      <th>3</th>\n",
       "      <td>0000000320</td>\n",
       "      <td>102</td>\n",
       "      <td>607</td>\n",
       "      <td>식약처, 존슨앤드존슨 제품은 빼고 '암 위험 인공유방 퇴출' : 네이버 뉴스</td>\n",
       "      <td>식품의약품안전처가 암 발병 사례가 보고된 인공유방 보형물이 리콜되고 한 달이 지나서...</td>\n",
       "      <td>2019-09-10T14:20:49</td>\n",
       "      <td>2019.09.10. 오후 2:10</td>\n",
       "      <td>None</td>\n",
       "      <td>0000000320</td>\n",
       "      <td>0</td>\n",
       "      <td>0</td>\n",
       "      <td>0</td>\n",
       "      <td>14</td>\n",
       "      <td>0</td>\n",
       "      <td>2019.09.10</td>\n",
       "    </tr>\n",
       "    <tr>\n",
       "      <th>4</th>\n",
       "      <td>0000000341</td>\n",
       "      <td>102</td>\n",
       "      <td>607</td>\n",
       "      <td>알고도 덮었나?...HDC신라면세점 밀수 은폐 의혹 : 네이버 뉴스</td>\n",
       "      <td>관세청이 HDC신라면세점 전 대표의 시계 밀수 사건을 관세법 위반 혐의로 검찰에 송...</td>\n",
       "      <td>2019-10-08T17:41:46</td>\n",
       "      <td>2019.10.08. 오후 5:26</td>\n",
       "      <td>None</td>\n",
       "      <td>0000000341</td>\n",
       "      <td>0</td>\n",
       "      <td>2</td>\n",
       "      <td>0</td>\n",
       "      <td>3</td>\n",
       "      <td>1</td>\n",
       "      <td>2019.10.08</td>\n",
       "    </tr>\n",
       "  </tbody>\n",
       "</table>\n",
       "</div>"
      ],
      "text/plain": [
       "          aid  sid  oid                                          title  \\\n",
       "0  0000000091  102  629         서초동 촛불집회, 오늘(28일) '찬성vs반대' 맞불 : 네이버 뉴스   \n",
       "1  0000000304  101  629     우리·하나은행, 안전자산 예금 선호 고객 노려 DLF 팔았다 : 네이버 뉴스   \n",
       "2  0000000318  102  607  [전두환 프로젝트] ④ 연희동 집 가구세트도 막대한 세금으로 구입 : 네이버 뉴스   \n",
       "3  0000000320  102  607     식약처, 존슨앤드존슨 제품은 빼고 '암 위험 인공유방 퇴출' : 네이버 뉴스   \n",
       "4  0000000341  102  607          알고도 덮었나?...HDC신라면세점 밀수 은폐 의혹 : 네이버 뉴스   \n",
       "\n",
       "                                             content           scraped_at  \\\n",
       "0  [더팩트ㅣ성강현 기자] 이번 주말 서울 서초동에서 조국 법무부 장관 찬반 촛불집회가...  2019-09-28T02:42:15   \n",
       "1  [더팩트｜이지선 기자] 대량 원금 손실을 불러온 해외 주요국 금리 연계형 파생결합상...  2019-10-01T17:02:10   \n",
       "2  ----------\\n1988년 2월 대통령 자리에서 물러난 전두환이 별도의 ‘전직...  2019-09-09T11:22:07   \n",
       "3  식품의약품안전처가 암 발병 사례가 보고된 인공유방 보형물이 리콜되고 한 달이 지나서...  2019-09-10T14:20:49   \n",
       "4  관세청이 HDC신라면세점 전 대표의 시계 밀수 사건을 관세법 위반 혐의로 검찰에 송...  2019-10-08T17:41:46   \n",
       "\n",
       "           published_at comment_count       r.aid  good  warm  sad  angry  \\\n",
       "0  2019.09.28. 오전 12:01          None  0000000091    46     2    2    241   \n",
       "1   2019.10.01. 오후 4:49          None  0000000304     0     0    0      2   \n",
       "2  2019.09.09. 오전 11:17          None  0000000318     0     0    0      6   \n",
       "3   2019.09.10. 오후 2:10          None  0000000320     0     0    0     14   \n",
       "4   2019.10.08. 오후 5:26          None  0000000341     0     2    0      3   \n",
       "\n",
       "   want        date  \n",
       "0     1  2019.09.28  \n",
       "1     1  2019.10.01  \n",
       "2     2  2019.09.09  \n",
       "3     0  2019.09.10  \n",
       "4     1  2019.10.08  "
      ]
     },
     "execution_count": 7,
     "metadata": {},
     "output_type": "execute_result"
    }
   ],
   "source": [
    "data.head()"
   ]
  },
  {
   "cell_type": "code",
   "execution_count": 8,
   "metadata": {},
   "outputs": [
    {
     "data": {
      "text/html": [
       "<div>\n",
       "<style scoped>\n",
       "    .dataframe tbody tr th:only-of-type {\n",
       "        vertical-align: middle;\n",
       "    }\n",
       "\n",
       "    .dataframe tbody tr th {\n",
       "        vertical-align: top;\n",
       "    }\n",
       "\n",
       "    .dataframe thead th {\n",
       "        text-align: right;\n",
       "    }\n",
       "</style>\n",
       "<table border=\"1\" class=\"dataframe\">\n",
       "  <thead>\n",
       "    <tr style=\"text-align: right;\">\n",
       "      <th></th>\n",
       "      <th>good</th>\n",
       "      <th>warm</th>\n",
       "      <th>sad</th>\n",
       "      <th>angry</th>\n",
       "      <th>want</th>\n",
       "    </tr>\n",
       "  </thead>\n",
       "  <tbody>\n",
       "    <tr>\n",
       "      <th>count</th>\n",
       "      <td>45748.000000</td>\n",
       "      <td>45748.000000</td>\n",
       "      <td>45748.000000</td>\n",
       "      <td>45748.000000</td>\n",
       "      <td>45748.000000</td>\n",
       "    </tr>\n",
       "    <tr>\n",
       "      <th>mean</th>\n",
       "      <td>147.428434</td>\n",
       "      <td>2.040658</td>\n",
       "      <td>6.414007</td>\n",
       "      <td>321.521837</td>\n",
       "      <td>4.231158</td>\n",
       "    </tr>\n",
       "    <tr>\n",
       "      <th>std</th>\n",
       "      <td>867.559820</td>\n",
       "      <td>13.376704</td>\n",
       "      <td>64.088924</td>\n",
       "      <td>1449.099182</td>\n",
       "      <td>12.573227</td>\n",
       "    </tr>\n",
       "    <tr>\n",
       "      <th>min</th>\n",
       "      <td>0.000000</td>\n",
       "      <td>0.000000</td>\n",
       "      <td>0.000000</td>\n",
       "      <td>0.000000</td>\n",
       "      <td>0.000000</td>\n",
       "    </tr>\n",
       "    <tr>\n",
       "      <th>25%</th>\n",
       "      <td>2.000000</td>\n",
       "      <td>0.000000</td>\n",
       "      <td>0.000000</td>\n",
       "      <td>2.000000</td>\n",
       "      <td>0.000000</td>\n",
       "    </tr>\n",
       "    <tr>\n",
       "      <th>50%</th>\n",
       "      <td>6.000000</td>\n",
       "      <td>0.000000</td>\n",
       "      <td>0.000000</td>\n",
       "      <td>15.000000</td>\n",
       "      <td>1.000000</td>\n",
       "    </tr>\n",
       "    <tr>\n",
       "      <th>75%</th>\n",
       "      <td>29.000000</td>\n",
       "      <td>2.000000</td>\n",
       "      <td>2.000000</td>\n",
       "      <td>106.000000</td>\n",
       "      <td>4.000000</td>\n",
       "    </tr>\n",
       "    <tr>\n",
       "      <th>max</th>\n",
       "      <td>41867.000000</td>\n",
       "      <td>2569.000000</td>\n",
       "      <td>7702.000000</td>\n",
       "      <td>50444.000000</td>\n",
       "      <td>1173.000000</td>\n",
       "    </tr>\n",
       "  </tbody>\n",
       "</table>\n",
       "</div>"
      ],
      "text/plain": [
       "               good          warm           sad         angry          want\n",
       "count  45748.000000  45748.000000  45748.000000  45748.000000  45748.000000\n",
       "mean     147.428434      2.040658      6.414007    321.521837      4.231158\n",
       "std      867.559820     13.376704     64.088924   1449.099182     12.573227\n",
       "min        0.000000      0.000000      0.000000      0.000000      0.000000\n",
       "25%        2.000000      0.000000      0.000000      2.000000      0.000000\n",
       "50%        6.000000      0.000000      0.000000     15.000000      1.000000\n",
       "75%       29.000000      2.000000      2.000000    106.000000      4.000000\n",
       "max    41867.000000   2569.000000   7702.000000  50444.000000   1173.000000"
      ]
     },
     "execution_count": 8,
     "metadata": {},
     "output_type": "execute_result"
    }
   ],
   "source": [
    "data.describe()"
   ]
  },
  {
   "cell_type": "raw",
   "metadata": {},
   "source": [
    "기본 분석\n",
    "날짜별 개수"
   ]
  },
  {
   "cell_type": "code",
   "execution_count": 13,
   "metadata": {},
   "outputs": [
    {
     "ename": "KeyboardInterrupt",
     "evalue": "",
     "output_type": "error",
     "traceback": [
      "\u001b[0;31m---------------------------------------------------------------------------\u001b[0m",
      "\u001b[0;31mKeyboardInterrupt\u001b[0m                         Traceback (most recent call last)",
      "\u001b[0;32m<ipython-input-13-058817740347>\u001b[0m in \u001b[0;36m<module>\u001b[0;34m\u001b[0m\n\u001b[1;32m      4\u001b[0m \u001b[0max\u001b[0m\u001b[0;34m.\u001b[0m\u001b[0mbarh\u001b[0m\u001b[0;34m(\u001b[0m\u001b[0mnp\u001b[0m\u001b[0;34m.\u001b[0m\u001b[0marange\u001b[0m\u001b[0;34m(\u001b[0m\u001b[0mlen\u001b[0m\u001b[0;34m(\u001b[0m\u001b[0mdata\u001b[0m\u001b[0;34m)\u001b[0m\u001b[0;34m)\u001b[0m\u001b[0;34m,\u001b[0m \u001b[0mdata\u001b[0m\u001b[0;34m.\u001b[0m\u001b[0mdate\u001b[0m\u001b[0;34m)\u001b[0m\u001b[0;34m\u001b[0m\u001b[0m\n\u001b[1;32m      5\u001b[0m \u001b[0max\u001b[0m\u001b[0;34m.\u001b[0m\u001b[0minvert_yaxis\u001b[0m\u001b[0;34m(\u001b[0m\u001b[0;34m)\u001b[0m\u001b[0;34m\u001b[0m\u001b[0m\n\u001b[0;32m----> 6\u001b[0;31m \u001b[0mplt\u001b[0m\u001b[0;34m.\u001b[0m\u001b[0mshow\u001b[0m\u001b[0;34m(\u001b[0m\u001b[0;34m)\u001b[0m\u001b[0;34m\u001b[0m\u001b[0m\n\u001b[0m",
      "\u001b[0;32m~/.pyenv/versions/3.6.5/envs/denuri/lib/python3.6/site-packages/matplotlib/pyplot.py\u001b[0m in \u001b[0;36mshow\u001b[0;34m(*args, **kw)\u001b[0m\n\u001b[1;32m    267\u001b[0m     \"\"\"\n\u001b[1;32m    268\u001b[0m     \u001b[0;32mglobal\u001b[0m \u001b[0m_show\u001b[0m\u001b[0;34m\u001b[0m\u001b[0m\n\u001b[0;32m--> 269\u001b[0;31m     \u001b[0;32mreturn\u001b[0m \u001b[0m_show\u001b[0m\u001b[0;34m(\u001b[0m\u001b[0;34m*\u001b[0m\u001b[0margs\u001b[0m\u001b[0;34m,\u001b[0m \u001b[0;34m**\u001b[0m\u001b[0mkw\u001b[0m\u001b[0;34m)\u001b[0m\u001b[0;34m\u001b[0m\u001b[0m\n\u001b[0m\u001b[1;32m    270\u001b[0m \u001b[0;34m\u001b[0m\u001b[0m\n\u001b[1;32m    271\u001b[0m \u001b[0;34m\u001b[0m\u001b[0m\n",
      "\u001b[0;32m~/.pyenv/versions/3.6.5/envs/denuri/lib/python3.6/site-packages/ipykernel/pylab/backend_inline.py\u001b[0m in \u001b[0;36mshow\u001b[0;34m(close, block)\u001b[0m\n\u001b[1;32m     37\u001b[0m             display(\n\u001b[1;32m     38\u001b[0m                 \u001b[0mfigure_manager\u001b[0m\u001b[0;34m.\u001b[0m\u001b[0mcanvas\u001b[0m\u001b[0;34m.\u001b[0m\u001b[0mfigure\u001b[0m\u001b[0;34m,\u001b[0m\u001b[0;34m\u001b[0m\u001b[0m\n\u001b[0;32m---> 39\u001b[0;31m                 \u001b[0mmetadata\u001b[0m\u001b[0;34m=\u001b[0m\u001b[0m_fetch_figure_metadata\u001b[0m\u001b[0;34m(\u001b[0m\u001b[0mfigure_manager\u001b[0m\u001b[0;34m.\u001b[0m\u001b[0mcanvas\u001b[0m\u001b[0;34m.\u001b[0m\u001b[0mfigure\u001b[0m\u001b[0;34m)\u001b[0m\u001b[0;34m\u001b[0m\u001b[0m\n\u001b[0m\u001b[1;32m     40\u001b[0m             )\n\u001b[1;32m     41\u001b[0m     \u001b[0;32mfinally\u001b[0m\u001b[0;34m:\u001b[0m\u001b[0;34m\u001b[0m\u001b[0m\n",
      "\u001b[0;32m~/.pyenv/versions/3.6.5/envs/denuri/lib/python3.6/site-packages/IPython/core/display.py\u001b[0m in \u001b[0;36mdisplay\u001b[0;34m(include, exclude, metadata, transient, display_id, *objs, **kwargs)\u001b[0m\n\u001b[1;32m    311\u001b[0m             \u001b[0mpublish_display_data\u001b[0m\u001b[0;34m(\u001b[0m\u001b[0mdata\u001b[0m\u001b[0;34m=\u001b[0m\u001b[0mobj\u001b[0m\u001b[0;34m,\u001b[0m \u001b[0mmetadata\u001b[0m\u001b[0;34m=\u001b[0m\u001b[0mmetadata\u001b[0m\u001b[0;34m,\u001b[0m \u001b[0;34m**\u001b[0m\u001b[0mkwargs\u001b[0m\u001b[0;34m)\u001b[0m\u001b[0;34m\u001b[0m\u001b[0m\n\u001b[1;32m    312\u001b[0m         \u001b[0;32melse\u001b[0m\u001b[0;34m:\u001b[0m\u001b[0;34m\u001b[0m\u001b[0m\n\u001b[0;32m--> 313\u001b[0;31m             \u001b[0mformat_dict\u001b[0m\u001b[0;34m,\u001b[0m \u001b[0mmd_dict\u001b[0m \u001b[0;34m=\u001b[0m \u001b[0mformat\u001b[0m\u001b[0;34m(\u001b[0m\u001b[0mobj\u001b[0m\u001b[0;34m,\u001b[0m \u001b[0minclude\u001b[0m\u001b[0;34m=\u001b[0m\u001b[0minclude\u001b[0m\u001b[0;34m,\u001b[0m \u001b[0mexclude\u001b[0m\u001b[0;34m=\u001b[0m\u001b[0mexclude\u001b[0m\u001b[0;34m)\u001b[0m\u001b[0;34m\u001b[0m\u001b[0m\n\u001b[0m\u001b[1;32m    314\u001b[0m             \u001b[0;32mif\u001b[0m \u001b[0;32mnot\u001b[0m \u001b[0mformat_dict\u001b[0m\u001b[0;34m:\u001b[0m\u001b[0;34m\u001b[0m\u001b[0m\n\u001b[1;32m    315\u001b[0m                 \u001b[0;31m# nothing to display (e.g. _ipython_display_ took over)\u001b[0m\u001b[0;34m\u001b[0m\u001b[0;34m\u001b[0m\u001b[0m\n",
      "\u001b[0;32m~/.pyenv/versions/3.6.5/envs/denuri/lib/python3.6/site-packages/IPython/core/formatters.py\u001b[0m in \u001b[0;36mformat\u001b[0;34m(self, obj, include, exclude)\u001b[0m\n\u001b[1;32m    178\u001b[0m             \u001b[0mmd\u001b[0m \u001b[0;34m=\u001b[0m \u001b[0;32mNone\u001b[0m\u001b[0;34m\u001b[0m\u001b[0m\n\u001b[1;32m    179\u001b[0m             \u001b[0;32mtry\u001b[0m\u001b[0;34m:\u001b[0m\u001b[0;34m\u001b[0m\u001b[0m\n\u001b[0;32m--> 180\u001b[0;31m                 \u001b[0mdata\u001b[0m \u001b[0;34m=\u001b[0m \u001b[0mformatter\u001b[0m\u001b[0;34m(\u001b[0m\u001b[0mobj\u001b[0m\u001b[0;34m)\u001b[0m\u001b[0;34m\u001b[0m\u001b[0m\n\u001b[0m\u001b[1;32m    181\u001b[0m             \u001b[0;32mexcept\u001b[0m\u001b[0;34m:\u001b[0m\u001b[0;34m\u001b[0m\u001b[0m\n\u001b[1;32m    182\u001b[0m                 \u001b[0;31m# FIXME: log the exception\u001b[0m\u001b[0;34m\u001b[0m\u001b[0;34m\u001b[0m\u001b[0m\n",
      "\u001b[0;32m</Users/heegyukim/.pyenv/versions/3.6.5/envs/denuri/lib/python3.6/site-packages/decorator.py:decorator-gen-9>\u001b[0m in \u001b[0;36m__call__\u001b[0;34m(self, obj)\u001b[0m\n",
      "\u001b[0;32m~/.pyenv/versions/3.6.5/envs/denuri/lib/python3.6/site-packages/IPython/core/formatters.py\u001b[0m in \u001b[0;36mcatch_format_error\u001b[0;34m(method, self, *args, **kwargs)\u001b[0m\n\u001b[1;32m    222\u001b[0m     \u001b[0;34m\"\"\"show traceback on failed format call\"\"\"\u001b[0m\u001b[0;34m\u001b[0m\u001b[0m\n\u001b[1;32m    223\u001b[0m     \u001b[0;32mtry\u001b[0m\u001b[0;34m:\u001b[0m\u001b[0;34m\u001b[0m\u001b[0m\n\u001b[0;32m--> 224\u001b[0;31m         \u001b[0mr\u001b[0m \u001b[0;34m=\u001b[0m \u001b[0mmethod\u001b[0m\u001b[0;34m(\u001b[0m\u001b[0mself\u001b[0m\u001b[0;34m,\u001b[0m \u001b[0;34m*\u001b[0m\u001b[0margs\u001b[0m\u001b[0;34m,\u001b[0m \u001b[0;34m**\u001b[0m\u001b[0mkwargs\u001b[0m\u001b[0;34m)\u001b[0m\u001b[0;34m\u001b[0m\u001b[0m\n\u001b[0m\u001b[1;32m    225\u001b[0m     \u001b[0;32mexcept\u001b[0m \u001b[0mNotImplementedError\u001b[0m\u001b[0;34m:\u001b[0m\u001b[0;34m\u001b[0m\u001b[0m\n\u001b[1;32m    226\u001b[0m         \u001b[0;31m# don't warn on NotImplementedErrors\u001b[0m\u001b[0;34m\u001b[0m\u001b[0;34m\u001b[0m\u001b[0m\n",
      "\u001b[0;32m~/.pyenv/versions/3.6.5/envs/denuri/lib/python3.6/site-packages/IPython/core/formatters.py\u001b[0m in \u001b[0;36m__call__\u001b[0;34m(self, obj)\u001b[0m\n\u001b[1;32m    339\u001b[0m                 \u001b[0;32mpass\u001b[0m\u001b[0;34m\u001b[0m\u001b[0m\n\u001b[1;32m    340\u001b[0m             \u001b[0;32melse\u001b[0m\u001b[0;34m:\u001b[0m\u001b[0;34m\u001b[0m\u001b[0m\n\u001b[0;32m--> 341\u001b[0;31m                 \u001b[0;32mreturn\u001b[0m \u001b[0mprinter\u001b[0m\u001b[0;34m(\u001b[0m\u001b[0mobj\u001b[0m\u001b[0;34m)\u001b[0m\u001b[0;34m\u001b[0m\u001b[0m\n\u001b[0m\u001b[1;32m    342\u001b[0m             \u001b[0;31m# Finally look for special method names\u001b[0m\u001b[0;34m\u001b[0m\u001b[0;34m\u001b[0m\u001b[0m\n\u001b[1;32m    343\u001b[0m             \u001b[0mmethod\u001b[0m \u001b[0;34m=\u001b[0m \u001b[0mget_real_method\u001b[0m\u001b[0;34m(\u001b[0m\u001b[0mobj\u001b[0m\u001b[0;34m,\u001b[0m \u001b[0mself\u001b[0m\u001b[0;34m.\u001b[0m\u001b[0mprint_method\u001b[0m\u001b[0;34m)\u001b[0m\u001b[0;34m\u001b[0m\u001b[0m\n",
      "\u001b[0;32m~/.pyenv/versions/3.6.5/envs/denuri/lib/python3.6/site-packages/IPython/core/pylabtools.py\u001b[0m in \u001b[0;36m<lambda>\u001b[0;34m(fig)\u001b[0m\n\u001b[1;32m    242\u001b[0m \u001b[0;34m\u001b[0m\u001b[0m\n\u001b[1;32m    243\u001b[0m     \u001b[0;32mif\u001b[0m \u001b[0;34m'png'\u001b[0m \u001b[0;32min\u001b[0m \u001b[0mformats\u001b[0m\u001b[0;34m:\u001b[0m\u001b[0;34m\u001b[0m\u001b[0m\n\u001b[0;32m--> 244\u001b[0;31m         \u001b[0mpng_formatter\u001b[0m\u001b[0;34m.\u001b[0m\u001b[0mfor_type\u001b[0m\u001b[0;34m(\u001b[0m\u001b[0mFigure\u001b[0m\u001b[0;34m,\u001b[0m \u001b[0;32mlambda\u001b[0m \u001b[0mfig\u001b[0m\u001b[0;34m:\u001b[0m \u001b[0mprint_figure\u001b[0m\u001b[0;34m(\u001b[0m\u001b[0mfig\u001b[0m\u001b[0;34m,\u001b[0m \u001b[0;34m'png'\u001b[0m\u001b[0;34m,\u001b[0m \u001b[0;34m**\u001b[0m\u001b[0mkwargs\u001b[0m\u001b[0;34m)\u001b[0m\u001b[0;34m)\u001b[0m\u001b[0;34m\u001b[0m\u001b[0m\n\u001b[0m\u001b[1;32m    245\u001b[0m     \u001b[0;32mif\u001b[0m \u001b[0;34m'retina'\u001b[0m \u001b[0;32min\u001b[0m \u001b[0mformats\u001b[0m \u001b[0;32mor\u001b[0m \u001b[0;34m'png2x'\u001b[0m \u001b[0;32min\u001b[0m \u001b[0mformats\u001b[0m\u001b[0;34m:\u001b[0m\u001b[0;34m\u001b[0m\u001b[0m\n\u001b[1;32m    246\u001b[0m         \u001b[0mpng_formatter\u001b[0m\u001b[0;34m.\u001b[0m\u001b[0mfor_type\u001b[0m\u001b[0;34m(\u001b[0m\u001b[0mFigure\u001b[0m\u001b[0;34m,\u001b[0m \u001b[0;32mlambda\u001b[0m \u001b[0mfig\u001b[0m\u001b[0;34m:\u001b[0m \u001b[0mretina_figure\u001b[0m\u001b[0;34m(\u001b[0m\u001b[0mfig\u001b[0m\u001b[0;34m,\u001b[0m \u001b[0;34m**\u001b[0m\u001b[0mkwargs\u001b[0m\u001b[0;34m)\u001b[0m\u001b[0;34m)\u001b[0m\u001b[0;34m\u001b[0m\u001b[0m\n",
      "\u001b[0;32m~/.pyenv/versions/3.6.5/envs/denuri/lib/python3.6/site-packages/IPython/core/pylabtools.py\u001b[0m in \u001b[0;36mprint_figure\u001b[0;34m(fig, fmt, bbox_inches, **kwargs)\u001b[0m\n\u001b[1;32m    126\u001b[0m \u001b[0;34m\u001b[0m\u001b[0m\n\u001b[1;32m    127\u001b[0m     \u001b[0mbytes_io\u001b[0m \u001b[0;34m=\u001b[0m \u001b[0mBytesIO\u001b[0m\u001b[0;34m(\u001b[0m\u001b[0;34m)\u001b[0m\u001b[0;34m\u001b[0m\u001b[0m\n\u001b[0;32m--> 128\u001b[0;31m     \u001b[0mfig\u001b[0m\u001b[0;34m.\u001b[0m\u001b[0mcanvas\u001b[0m\u001b[0;34m.\u001b[0m\u001b[0mprint_figure\u001b[0m\u001b[0;34m(\u001b[0m\u001b[0mbytes_io\u001b[0m\u001b[0;34m,\u001b[0m \u001b[0;34m**\u001b[0m\u001b[0mkw\u001b[0m\u001b[0;34m)\u001b[0m\u001b[0;34m\u001b[0m\u001b[0m\n\u001b[0m\u001b[1;32m    129\u001b[0m     \u001b[0mdata\u001b[0m \u001b[0;34m=\u001b[0m \u001b[0mbytes_io\u001b[0m\u001b[0;34m.\u001b[0m\u001b[0mgetvalue\u001b[0m\u001b[0;34m(\u001b[0m\u001b[0;34m)\u001b[0m\u001b[0;34m\u001b[0m\u001b[0m\n\u001b[1;32m    130\u001b[0m     \u001b[0;32mif\u001b[0m \u001b[0mfmt\u001b[0m \u001b[0;34m==\u001b[0m \u001b[0;34m'svg'\u001b[0m\u001b[0;34m:\u001b[0m\u001b[0;34m\u001b[0m\u001b[0m\n",
      "\u001b[0;32m~/.pyenv/versions/3.6.5/envs/denuri/lib/python3.6/site-packages/matplotlib/backend_bases.py\u001b[0m in \u001b[0;36mprint_figure\u001b[0;34m(self, filename, dpi, facecolor, edgecolor, orientation, format, bbox_inches, **kwargs)\u001b[0m\n\u001b[1;32m   2058\u001b[0m                     \u001b[0mbbox_artists\u001b[0m \u001b[0;34m=\u001b[0m \u001b[0mkwargs\u001b[0m\u001b[0;34m.\u001b[0m\u001b[0mpop\u001b[0m\u001b[0;34m(\u001b[0m\u001b[0;34m\"bbox_extra_artists\"\u001b[0m\u001b[0;34m,\u001b[0m \u001b[0;32mNone\u001b[0m\u001b[0;34m)\u001b[0m\u001b[0;34m\u001b[0m\u001b[0m\n\u001b[1;32m   2059\u001b[0m                     bbox_inches = self.figure.get_tightbbox(renderer,\n\u001b[0;32m-> 2060\u001b[0;31m                             bbox_extra_artists=bbox_artists)\n\u001b[0m\u001b[1;32m   2061\u001b[0m                     \u001b[0mpad\u001b[0m \u001b[0;34m=\u001b[0m \u001b[0mkwargs\u001b[0m\u001b[0;34m.\u001b[0m\u001b[0mpop\u001b[0m\u001b[0;34m(\u001b[0m\u001b[0;34m\"pad_inches\"\u001b[0m\u001b[0;34m,\u001b[0m \u001b[0;32mNone\u001b[0m\u001b[0;34m)\u001b[0m\u001b[0;34m\u001b[0m\u001b[0m\n\u001b[1;32m   2062\u001b[0m                     \u001b[0;32mif\u001b[0m \u001b[0mpad\u001b[0m \u001b[0;32mis\u001b[0m \u001b[0;32mNone\u001b[0m\u001b[0;34m:\u001b[0m\u001b[0;34m\u001b[0m\u001b[0m\n",
      "\u001b[0;32m~/.pyenv/versions/3.6.5/envs/denuri/lib/python3.6/site-packages/matplotlib/figure.py\u001b[0m in \u001b[0;36mget_tightbbox\u001b[0;34m(self, renderer, bbox_extra_artists)\u001b[0m\n\u001b[1;32m   2365\u001b[0m \u001b[0;34m\u001b[0m\u001b[0m\n\u001b[1;32m   2366\u001b[0m         \u001b[0;32mfor\u001b[0m \u001b[0ma\u001b[0m \u001b[0;32min\u001b[0m \u001b[0martists\u001b[0m\u001b[0;34m:\u001b[0m\u001b[0;34m\u001b[0m\u001b[0m\n\u001b[0;32m-> 2367\u001b[0;31m             \u001b[0mbbox\u001b[0m \u001b[0;34m=\u001b[0m \u001b[0ma\u001b[0m\u001b[0;34m.\u001b[0m\u001b[0mget_tightbbox\u001b[0m\u001b[0;34m(\u001b[0m\u001b[0mrenderer\u001b[0m\u001b[0;34m)\u001b[0m\u001b[0;34m\u001b[0m\u001b[0m\n\u001b[0m\u001b[1;32m   2368\u001b[0m             \u001b[0;32mif\u001b[0m \u001b[0mbbox\u001b[0m \u001b[0;32mis\u001b[0m \u001b[0;32mnot\u001b[0m \u001b[0;32mNone\u001b[0m \u001b[0;32mand\u001b[0m \u001b[0;34m(\u001b[0m\u001b[0mbbox\u001b[0m\u001b[0;34m.\u001b[0m\u001b[0mwidth\u001b[0m \u001b[0;34m!=\u001b[0m \u001b[0;36m0\u001b[0m \u001b[0;32mor\u001b[0m \u001b[0mbbox\u001b[0m\u001b[0;34m.\u001b[0m\u001b[0mheight\u001b[0m \u001b[0;34m!=\u001b[0m \u001b[0;36m0\u001b[0m\u001b[0;34m)\u001b[0m\u001b[0;34m:\u001b[0m\u001b[0;34m\u001b[0m\u001b[0m\n\u001b[1;32m   2369\u001b[0m                 \u001b[0mbb\u001b[0m\u001b[0;34m.\u001b[0m\u001b[0mappend\u001b[0m\u001b[0;34m(\u001b[0m\u001b[0mbbox\u001b[0m\u001b[0;34m)\u001b[0m\u001b[0;34m\u001b[0m\u001b[0m\n",
      "\u001b[0;32m~/.pyenv/versions/3.6.5/envs/denuri/lib/python3.6/site-packages/matplotlib/artist.py\u001b[0m in \u001b[0;36mget_tightbbox\u001b[0;34m(self, renderer)\u001b[0m\n\u001b[1;32m    282\u001b[0m             \u001b[0mThe\u001b[0m \u001b[0menclosing\u001b[0m \u001b[0mbounding\u001b[0m \u001b[0mbox\u001b[0m \u001b[0;34m(\u001b[0m\u001b[0;32min\u001b[0m \u001b[0mfigure\u001b[0m \u001b[0mpixel\u001b[0m \u001b[0mco\u001b[0m\u001b[0;34m-\u001b[0m\u001b[0mordinates\u001b[0m\u001b[0;34m)\u001b[0m\u001b[0;34m.\u001b[0m\u001b[0;34m\u001b[0m\u001b[0m\n\u001b[1;32m    283\u001b[0m         \"\"\"\n\u001b[0;32m--> 284\u001b[0;31m         \u001b[0mbbox\u001b[0m \u001b[0;34m=\u001b[0m \u001b[0mself\u001b[0m\u001b[0;34m.\u001b[0m\u001b[0mget_window_extent\u001b[0m\u001b[0;34m(\u001b[0m\u001b[0mrenderer\u001b[0m\u001b[0;34m)\u001b[0m\u001b[0;34m\u001b[0m\u001b[0m\n\u001b[0m\u001b[1;32m    285\u001b[0m         \u001b[0;32mif\u001b[0m \u001b[0mself\u001b[0m\u001b[0;34m.\u001b[0m\u001b[0mget_clip_on\u001b[0m\u001b[0;34m(\u001b[0m\u001b[0;34m)\u001b[0m\u001b[0;34m:\u001b[0m\u001b[0;34m\u001b[0m\u001b[0m\n\u001b[1;32m    286\u001b[0m             \u001b[0mclip_box\u001b[0m \u001b[0;34m=\u001b[0m \u001b[0mself\u001b[0m\u001b[0;34m.\u001b[0m\u001b[0mget_clip_box\u001b[0m\u001b[0;34m(\u001b[0m\u001b[0;34m)\u001b[0m\u001b[0;34m\u001b[0m\u001b[0m\n",
      "\u001b[0;32m~/.pyenv/versions/3.6.5/envs/denuri/lib/python3.6/site-packages/matplotlib/patches.py\u001b[0m in \u001b[0;36mget_window_extent\u001b[0;34m(self, renderer)\u001b[0m\n\u001b[1;32m    587\u001b[0m \u001b[0;34m\u001b[0m\u001b[0m\n\u001b[1;32m    588\u001b[0m     \u001b[0;32mdef\u001b[0m \u001b[0mget_window_extent\u001b[0m\u001b[0;34m(\u001b[0m\u001b[0mself\u001b[0m\u001b[0;34m,\u001b[0m \u001b[0mrenderer\u001b[0m\u001b[0;34m=\u001b[0m\u001b[0;32mNone\u001b[0m\u001b[0;34m)\u001b[0m\u001b[0;34m:\u001b[0m\u001b[0;34m\u001b[0m\u001b[0m\n\u001b[0;32m--> 589\u001b[0;31m         \u001b[0;32mreturn\u001b[0m \u001b[0mself\u001b[0m\u001b[0;34m.\u001b[0m\u001b[0mget_path\u001b[0m\u001b[0;34m(\u001b[0m\u001b[0;34m)\u001b[0m\u001b[0;34m.\u001b[0m\u001b[0mget_extents\u001b[0m\u001b[0;34m(\u001b[0m\u001b[0mself\u001b[0m\u001b[0;34m.\u001b[0m\u001b[0mget_transform\u001b[0m\u001b[0;34m(\u001b[0m\u001b[0;34m)\u001b[0m\u001b[0;34m)\u001b[0m\u001b[0;34m\u001b[0m\u001b[0m\n\u001b[0m\u001b[1;32m    590\u001b[0m \u001b[0;34m\u001b[0m\u001b[0m\n\u001b[1;32m    591\u001b[0m     \u001b[0;32mdef\u001b[0m \u001b[0m_convert_xy_units\u001b[0m\u001b[0;34m(\u001b[0m\u001b[0mself\u001b[0m\u001b[0;34m,\u001b[0m \u001b[0mxy\u001b[0m\u001b[0;34m)\u001b[0m\u001b[0;34m:\u001b[0m\u001b[0;34m\u001b[0m\u001b[0m\n",
      "\u001b[0;32m~/.pyenv/versions/3.6.5/envs/denuri/lib/python3.6/site-packages/matplotlib/patches.py\u001b[0m in \u001b[0;36mget_transform\u001b[0;34m(self)\u001b[0m\n\u001b[1;32m    212\u001b[0m         \u001b[0mto\u001b[0m \u001b[0mthe\u001b[0m \u001b[0;34m:\u001b[0m\u001b[0;32mclass\u001b[0m\u001b[0;34m:\u001b[0m\u001b[0;31m`\u001b[0m\u001b[0mPatch\u001b[0m\u001b[0;31m`\u001b[0m\u001b[0;34m.\u001b[0m\u001b[0;34m\u001b[0m\u001b[0m\n\u001b[1;32m    213\u001b[0m         \"\"\"\n\u001b[0;32m--> 214\u001b[0;31m         \u001b[0;32mreturn\u001b[0m \u001b[0mself\u001b[0m\u001b[0;34m.\u001b[0m\u001b[0mget_patch_transform\u001b[0m\u001b[0;34m(\u001b[0m\u001b[0;34m)\u001b[0m \u001b[0;34m+\u001b[0m \u001b[0martist\u001b[0m\u001b[0;34m.\u001b[0m\u001b[0mArtist\u001b[0m\u001b[0;34m.\u001b[0m\u001b[0mget_transform\u001b[0m\u001b[0;34m(\u001b[0m\u001b[0mself\u001b[0m\u001b[0;34m)\u001b[0m\u001b[0;34m\u001b[0m\u001b[0m\n\u001b[0m\u001b[1;32m    215\u001b[0m \u001b[0;34m\u001b[0m\u001b[0m\n\u001b[1;32m    216\u001b[0m     \u001b[0;32mdef\u001b[0m \u001b[0mget_data_transform\u001b[0m\u001b[0;34m(\u001b[0m\u001b[0mself\u001b[0m\u001b[0;34m)\u001b[0m\u001b[0;34m:\u001b[0m\u001b[0;34m\u001b[0m\u001b[0m\n",
      "\u001b[0;32m~/.pyenv/versions/3.6.5/envs/denuri/lib/python3.6/site-packages/matplotlib/patches.py\u001b[0m in \u001b[0;36mget_patch_transform\u001b[0;34m(self)\u001b[0m\n\u001b[1;32m    756\u001b[0m \u001b[0;34m\u001b[0m\u001b[0m\n\u001b[1;32m    757\u001b[0m     \u001b[0;32mdef\u001b[0m \u001b[0mget_patch_transform\u001b[0m\u001b[0;34m(\u001b[0m\u001b[0mself\u001b[0m\u001b[0;34m)\u001b[0m\u001b[0;34m:\u001b[0m\u001b[0;34m\u001b[0m\u001b[0m\n\u001b[0;32m--> 758\u001b[0;31m         \u001b[0mself\u001b[0m\u001b[0;34m.\u001b[0m\u001b[0m_update_patch_transform\u001b[0m\u001b[0;34m(\u001b[0m\u001b[0;34m)\u001b[0m\u001b[0;34m\u001b[0m\u001b[0m\n\u001b[0m\u001b[1;32m    759\u001b[0m         \u001b[0;32mreturn\u001b[0m \u001b[0mself\u001b[0m\u001b[0;34m.\u001b[0m\u001b[0m_rect_transform\u001b[0m\u001b[0;34m\u001b[0m\u001b[0m\n\u001b[1;32m    760\u001b[0m \u001b[0;34m\u001b[0m\u001b[0m\n",
      "\u001b[0;32m~/.pyenv/versions/3.6.5/envs/denuri/lib/python3.6/site-packages/matplotlib/patches.py\u001b[0m in \u001b[0;36m_update_patch_transform\u001b[0;34m(self)\u001b[0m\n\u001b[1;32m    735\u001b[0m         \u001b[0mbbox\u001b[0m \u001b[0;34m=\u001b[0m \u001b[0mtransforms\u001b[0m\u001b[0;34m.\u001b[0m\u001b[0mBbox\u001b[0m\u001b[0;34m.\u001b[0m\u001b[0mfrom_extents\u001b[0m\u001b[0;34m(\u001b[0m\u001b[0mx0\u001b[0m\u001b[0;34m,\u001b[0m \u001b[0my0\u001b[0m\u001b[0;34m,\u001b[0m \u001b[0mx1\u001b[0m\u001b[0;34m,\u001b[0m \u001b[0my1\u001b[0m\u001b[0;34m)\u001b[0m\u001b[0;34m\u001b[0m\u001b[0m\n\u001b[1;32m    736\u001b[0m         \u001b[0mrot_trans\u001b[0m \u001b[0;34m=\u001b[0m \u001b[0mtransforms\u001b[0m\u001b[0;34m.\u001b[0m\u001b[0mAffine2D\u001b[0m\u001b[0;34m(\u001b[0m\u001b[0;34m)\u001b[0m\u001b[0;34m\u001b[0m\u001b[0m\n\u001b[0;32m--> 737\u001b[0;31m         \u001b[0mrot_trans\u001b[0m\u001b[0;34m.\u001b[0m\u001b[0mrotate_deg_around\u001b[0m\u001b[0;34m(\u001b[0m\u001b[0mx0\u001b[0m\u001b[0;34m,\u001b[0m \u001b[0my0\u001b[0m\u001b[0;34m,\u001b[0m \u001b[0mself\u001b[0m\u001b[0;34m.\u001b[0m\u001b[0mangle\u001b[0m\u001b[0;34m)\u001b[0m\u001b[0;34m\u001b[0m\u001b[0m\n\u001b[0m\u001b[1;32m    738\u001b[0m         \u001b[0mself\u001b[0m\u001b[0;34m.\u001b[0m\u001b[0m_rect_transform\u001b[0m \u001b[0;34m=\u001b[0m \u001b[0mtransforms\u001b[0m\u001b[0;34m.\u001b[0m\u001b[0mBboxTransformTo\u001b[0m\u001b[0;34m(\u001b[0m\u001b[0mbbox\u001b[0m\u001b[0;34m)\u001b[0m\u001b[0;34m\u001b[0m\u001b[0m\n\u001b[1;32m    739\u001b[0m         \u001b[0mself\u001b[0m\u001b[0;34m.\u001b[0m\u001b[0m_rect_transform\u001b[0m \u001b[0;34m+=\u001b[0m \u001b[0mrot_trans\u001b[0m\u001b[0;34m\u001b[0m\u001b[0m\n",
      "\u001b[0;32m~/.pyenv/versions/3.6.5/envs/denuri/lib/python3.6/site-packages/matplotlib/transforms.py\u001b[0m in \u001b[0;36mrotate_deg_around\u001b[0;34m(self, x, y, degrees)\u001b[0m\n\u001b[1;32m   1958\u001b[0m         \u001b[0;31m# Cast to float to avoid wraparound issues with uint8's\u001b[0m\u001b[0;34m\u001b[0m\u001b[0;34m\u001b[0m\u001b[0m\n\u001b[1;32m   1959\u001b[0m         \u001b[0mx\u001b[0m\u001b[0;34m,\u001b[0m \u001b[0my\u001b[0m \u001b[0;34m=\u001b[0m \u001b[0mfloat\u001b[0m\u001b[0;34m(\u001b[0m\u001b[0mx\u001b[0m\u001b[0;34m)\u001b[0m\u001b[0;34m,\u001b[0m \u001b[0mfloat\u001b[0m\u001b[0;34m(\u001b[0m\u001b[0my\u001b[0m\u001b[0;34m)\u001b[0m\u001b[0;34m\u001b[0m\u001b[0m\n\u001b[0;32m-> 1960\u001b[0;31m         \u001b[0;32mreturn\u001b[0m \u001b[0mself\u001b[0m\u001b[0;34m.\u001b[0m\u001b[0mtranslate\u001b[0m\u001b[0;34m(\u001b[0m\u001b[0;34m-\u001b[0m\u001b[0mx\u001b[0m\u001b[0;34m,\u001b[0m \u001b[0;34m-\u001b[0m\u001b[0my\u001b[0m\u001b[0;34m)\u001b[0m\u001b[0;34m.\u001b[0m\u001b[0mrotate_deg\u001b[0m\u001b[0;34m(\u001b[0m\u001b[0mdegrees\u001b[0m\u001b[0;34m)\u001b[0m\u001b[0;34m.\u001b[0m\u001b[0mtranslate\u001b[0m\u001b[0;34m(\u001b[0m\u001b[0mx\u001b[0m\u001b[0;34m,\u001b[0m \u001b[0my\u001b[0m\u001b[0;34m)\u001b[0m\u001b[0;34m\u001b[0m\u001b[0m\n\u001b[0m\u001b[1;32m   1961\u001b[0m \u001b[0;34m\u001b[0m\u001b[0m\n\u001b[1;32m   1962\u001b[0m     \u001b[0;32mdef\u001b[0m \u001b[0mtranslate\u001b[0m\u001b[0;34m(\u001b[0m\u001b[0mself\u001b[0m\u001b[0;34m,\u001b[0m \u001b[0mtx\u001b[0m\u001b[0;34m,\u001b[0m \u001b[0mty\u001b[0m\u001b[0;34m)\u001b[0m\u001b[0;34m:\u001b[0m\u001b[0;34m\u001b[0m\u001b[0m\n",
      "\u001b[0;32m~/.pyenv/versions/3.6.5/envs/denuri/lib/python3.6/site-packages/matplotlib/transforms.py\u001b[0m in \u001b[0;36mtranslate\u001b[0;34m(self, tx, ty)\u001b[0m\n\u001b[1;32m   1969\u001b[0m         \"\"\"\n\u001b[1;32m   1970\u001b[0m         translate_mtx = np.array(\n\u001b[0;32m-> 1971\u001b[0;31m             [[1.0, 0.0, tx], [0.0, 1.0, ty], [0.0, 0.0, 1.0]], float)\n\u001b[0m\u001b[1;32m   1972\u001b[0m         \u001b[0mself\u001b[0m\u001b[0;34m.\u001b[0m\u001b[0m_mtx\u001b[0m \u001b[0;34m=\u001b[0m \u001b[0mnp\u001b[0m\u001b[0;34m.\u001b[0m\u001b[0mdot\u001b[0m\u001b[0;34m(\u001b[0m\u001b[0mtranslate_mtx\u001b[0m\u001b[0;34m,\u001b[0m \u001b[0mself\u001b[0m\u001b[0;34m.\u001b[0m\u001b[0m_mtx\u001b[0m\u001b[0;34m)\u001b[0m\u001b[0;34m\u001b[0m\u001b[0m\n\u001b[1;32m   1973\u001b[0m         \u001b[0mself\u001b[0m\u001b[0;34m.\u001b[0m\u001b[0minvalidate\u001b[0m\u001b[0;34m(\u001b[0m\u001b[0;34m)\u001b[0m\u001b[0;34m\u001b[0m\u001b[0m\n",
      "\u001b[0;31mKeyboardInterrupt\u001b[0m: "
     ]
    }
   ],
   "source": [
    "plt.rcdefaults()\n",
    "fig, ax = plt.subplots()\n",
    "\n",
    "ax.barh(np.arange(len(data)), data.date)\n",
    "ax.invert_yaxis()\n",
    "plt.show()"
   ]
  },
  {
   "cell_type": "markdown",
   "metadata": {},
   "source": [
    "## 텍스트 분석\n",
    "제목 평균길이<br>\n",
    "내용 평균길이<br>\n",
    "토큰 길이 분석"
   ]
  },
  {
   "cell_type": "code",
   "execution_count": 9,
   "metadata": {
    "scrolled": true
   },
   "outputs": [
    {
     "name": "stdout",
     "output_type": "stream",
     "text": [
      "CPU times: user 41min 27s, sys: 27.8 s, total: 41min 55s\n",
      "Wall time: 43min 3s\n"
     ]
    }
   ],
   "source": [
    "%%time \n",
    "\n",
    "allowed_pos = [\n",
    "    'Noun', 'Verb', 'Adjective', 'Adverb', 'Alpha', 'Determiner', 'Exclamation'\n",
    "    , 'Suffix', 'PreEomi', 'Unknown'\n",
    "]\n",
    "def try_tagging(x):\n",
    "    x = x.strip() if x else \"\"\n",
    "    tokens = tagger.pos(x)\n",
    "    tokens = filter(lambda x: x[1] in allowed_pos, tokens)\n",
    "    tokens = map(lambda x: x[0], tokens)\n",
    "    return list(tokens)\n",
    "\n",
    "# print(tagger.tagset)\n",
    "# print(\" \".join(try_tagging(data.content[1])))\n",
    "data['title_len'] = data['title'].map(lambda x: len(x))\n",
    "data['content_len'] = data['content'].map(lambda x: len(x))\n",
    "data['title_token'] = data.title.map(try_tagging)\n",
    "data['title_token_len'] = data.title_token.map(lambda x: len(x))\n",
    "data['content_token'] = data.content.map(try_tagging)\n",
    "data['content_token_len'] = data.content_token.map(lambda x: len(x))"
   ]
  },
  {
   "cell_type": "code",
   "execution_count": 10,
   "metadata": {},
   "outputs": [
    {
     "name": "stdout",
     "output_type": "stream",
     "text": [
      "0           [서초동, 촛불집회, 오늘, 찬성, vs, 반대, 맞, 불, 네이버, 뉴스]\n",
      "1    [우리, 하나은행, 안전, 자산, 예금, 선호, 고객, 노려, DLF, 팔았다, 네...\n",
      "2     [전두환, 프로젝트, 연희동, 집, 가구, 세트, 막대, 세금, 구입, 네이버, 뉴스]\n",
      "3    [식약처, 존슨, 앤드, 존슨, 제품, 빼고, 암, 위험, 인공, 유방, 퇴, 출,...\n",
      "4        [알고도, 덮었나, HDC, 신라, 면세점, 밀수, 은폐, 의혹, 네이버, 뉴스]\n",
      "Name: title_token, dtype: object\n",
      "0    [더, 팩트, 성강현, 기자, 이번, 주말, 서울, 서초동, 조국, 법무부, 장관,...\n",
      "1    [더, 팩트, 이지선, 기자, 대량, 원금, 손실, 불러, 온, 해외, 국, 금리,...\n",
      "2    [대통령, 자리, 물러난, 전두환, 별도, 전직, 대통령, 사무실, 내지, 않았으면...\n",
      "3    [식품의약품안전처, 암, 발병, 사례, 보고, 된, 인공, 유방, 보, 형, 물이,...\n",
      "4    [관세청, HDC, 신라, 면세점, 전, 대표, 시계, 밀수, 사건, 관세, 법, ...\n",
      "Name: content_token, dtype: object\n"
     ]
    }
   ],
   "source": [
    "print(data['title_token'].head())\n",
    "print(data['content_token'].head())"
   ]
  },
  {
   "cell_type": "code",
   "execution_count": 11,
   "metadata": {},
   "outputs": [
    {
     "name": "stdout",
     "output_type": "stream",
     "text": [
      "Title length\n",
      "count    45748.000000\n",
      "mean        41.296975\n",
      "std          6.414946\n",
      "min         16.000000\n",
      "25%         37.000000\n",
      "50%         41.000000\n",
      "75%         45.000000\n",
      "max        104.000000\n",
      "Name: title_len, dtype: float64\n"
     ]
    },
    {
     "data": {
      "image/png": "[encoded data removed]",
      "text/plain": [
       "<Figure size 432x288 with 1 Axes>"
      ]
     },
     "metadata": {
      "needs_background": "light"
     },
     "output_type": "display_data"
    },
    {
     "name": "stdout",
     "output_type": "stream",
     "text": [
      "Title token length\n",
      "count    45748.000000\n",
      "mean        11.348474\n",
      "std          2.137689\n",
      "min          3.000000\n",
      "25%         10.000000\n",
      "50%         11.000000\n",
      "75%         13.000000\n",
      "max         29.000000\n",
      "Name: title_token_len, dtype: float64\n"
     ]
    },
    {
     "data": {
      "image/png": "[encoded data removed]",
      "text/plain": [
       "<Figure size 432x288 with 1 Axes>"
      ]
     },
     "metadata": {
      "needs_background": "light"
     },
     "output_type": "display_data"
    }
   ],
   "source": [
    "print(\"Title length\")\n",
    "print(data.title_len.describe())\n",
    "plt.title(\"Title Length Histogram\")\n",
    "plt.hist(data['title_len'], bins=10)\n",
    "plt.show()\n",
    "\n",
    "print(\"Title token length\")\n",
    "print(data.title_token_len.describe())\n",
    "plt.title(\"Title Token Length Histogram\")\n",
    "plt.hist(data['title_token_len'], bins=20)\n",
    "plt.show()"
   ]
  },
  {
   "cell_type": "code",
   "execution_count": 12,
   "metadata": {
    "scrolled": false
   },
   "outputs": [
    {
     "name": "stdout",
     "output_type": "stream",
     "text": [
      "Content length\n",
      "count    45748.000000\n",
      "mean      1500.241606\n",
      "std       1009.203270\n",
      "min          0.000000\n",
      "25%        970.000000\n",
      "50%       1314.500000\n",
      "75%       1780.000000\n",
      "max      28082.000000\n",
      "Name: content_len, dtype: float64\n"
     ]
    },
    {
     "data": {
      "image/png": "[encoded data removed]",
      "text/plain": [
       "<Figure size 432x288 with 1 Axes>"
      ]
     },
     "metadata": {
      "needs_background": "light"
     },
     "output_type": "display_data"
    },
    {
     "name": "stdout",
     "output_type": "stream",
     "text": [
      "Content token length\n",
      "count    45748.000000\n",
      "mean       401.600726\n",
      "std        273.262470\n",
      "min          0.000000\n",
      "25%        255.000000\n",
      "50%        352.000000\n",
      "75%        481.000000\n",
      "max       7542.000000\n",
      "Name: content_token_len, dtype: float64\n"
     ]
    },
    {
     "data": {
      "image/png": "[encoded data removed]",
      "text/plain": [
       "<Figure size 432x288 with 1 Axes>"
      ]
     },
     "metadata": {
      "needs_background": "light"
     },
     "output_type": "display_data"
    }
   ],
   "source": [
    "print(\"Content length\")\n",
    "print(data.content_len.describe())\n",
    "plt.title(\"Content Length Histogram(under 0.95 quantile)\")\n",
    "plt.hist(data[data.content_len < data.content_len.quantile(0.95)]['content_len'], bins=50)\n",
    "plt.show()\n",
    "\n",
    "print(\"Content token length\")\n",
    "print(data.content_token_len.describe())\n",
    "plt.title(\"Content Token Length Histogram(under 0.95 quantile)\")\n",
    "plt.hist(data[data.content_token_len < data.content_token_len.quantile(0.95)] ['content_token_len'], bins=50)\n",
    "plt.show()"
   ]
  },
  {
   "cell_type": "markdown",
   "metadata": {},
   "source": [
    "## 감정 분석\n",
    "4분위 분석\n",
    "감정표현 총 합의 평균"
   ]
  },
  {
   "cell_type": "code",
   "execution_count": 13,
   "metadata": {},
   "outputs": [],
   "source": [
    "reactions = data[['good', 'warm', 'sad', 'angry', 'want']]\n",
    "total = reactions.sum(axis=1)\n",
    "pos = data[['good', 'warm']].sum(axis=1)\n",
    "neg = data.angry"
   ]
  },
  {
   "cell_type": "code",
   "execution_count": 21,
   "metadata": {
    "scrolled": false
   },
   "outputs": [
    {
     "name": "stdout",
     "output_type": "stream",
     "text": [
      "Total Reactions\n",
      "count    45748.000000\n",
      "mean       481.636093\n",
      "std       1755.886360\n",
      "min          0.000000\n",
      "25%          8.000000\n",
      "50%         40.000000\n",
      "75%        237.000000\n",
      "max      52982.000000\n",
      "dtype: float64\n"
     ]
    },
    {
     "data": {
      "image/png": "[encoded data removed]",
      "text/plain": [
       "<Figure size 432x288 with 1 Axes>"
      ]
     },
     "metadata": {
      "needs_background": "light"
     },
     "output_type": "display_data"
    },
    {
     "name": "stdout",
     "output_type": "stream",
     "text": [
      "Positive Reactions(Good,Warm)\n",
      "count    45748.000000\n",
      "mean       149.469092\n",
      "std        871.897069\n",
      "min          0.000000\n",
      "25%          2.000000\n",
      "50%          7.000000\n",
      "75%         31.000000\n",
      "max      42011.000000\n",
      "dtype: float64\n"
     ]
    },
    {
     "data": {
      "image/png": "[encoded data removed]",
      "text/plain": [
       "<Figure size 432x288 with 1 Axes>"
      ]
     },
     "metadata": {
      "needs_background": "light"
     },
     "output_type": "display_data"
    },
    {
     "name": "stdout",
     "output_type": "stream",
     "text": [
      "Negative Reactions(Sad, Angry)\n",
      "count    45748.000000\n",
      "mean       321.521837\n",
      "std       1449.099182\n",
      "min          0.000000\n",
      "25%          2.000000\n",
      "50%         15.000000\n",
      "75%        106.000000\n",
      "max      50444.000000\n",
      "Name: angry, dtype: float64\n"
     ]
    },
    {
     "data": {
      "image/png": "[encoded data removed]",
      "text/plain": [
       "<Figure size 432x288 with 1 Axes>"
      ]
     },
     "metadata": {
      "needs_background": "light"
     },
     "output_type": "display_data"
    }
   ],
   "source": [
    "print(\"Total Reactions\")\n",
    "print(total.describe())\n",
    "plt.title(\"Total Reaction Histogram(under 0.75 quantile)\")\n",
    "plt.hist(total[total < total.quantile(0.75)] , \n",
    "         bins=10, ## 몇 개의 바구니로 구분할 것인가. \n",
    "         density=True, ## ytick을 퍼센트비율로 표현해줌 \n",
    "         cumulative=False, ## 누적으로 표현하고 싶을 때는 True\n",
    "         histtype='bar',  ## 타입. or step으로 하면 모양이 바뀜.  \n",
    "         orientation='vertical', ## or horizontal\n",
    "         rwidth=0.8, ## 1.0일 경우, 꽉 채움 작아질수록 간격이 생김\n",
    "         color='hotpink', ## bar 색깔\n",
    "        )\n",
    "plt.show()\n",
    "print(\"Positive Reactions(Good,Warm)\")\n",
    "print(pos.describe())\n",
    "plt.title(\"Positive Reaction Histogram(under 0.95 quantile)\")\n",
    "plt.hist(pos[pos < pos.quantile(0.95)] , \n",
    "         bins=30, ## 몇 개의 바구니로 구분할 것인가. \n",
    "         density=True, ## ytick을 퍼센트비율로 표현해줌 \n",
    "         cumulative=False, ## 누적으로 표현하고 싶을 때는 True\n",
    "         histtype='bar',  ## 타입. or step으로 하면 모양이 바뀜.  \n",
    "         orientation='vertical', ## or horizontal\n",
    "         rwidth=0.8, ## 1.0일 경우, 꽉 채움 작아질수록 간격이 생김\n",
    "         color='hotpink', ## bar 색깔\n",
    "        )\n",
    "plt.show()\n",
    "print(\"Negative Reactions(Sad, Angry)\")\n",
    "print(neg.describe())\n",
    "plt.title(\"Total Reaction Histogram(under 0.95 quantile)\")\n",
    "plt.hist(neg[neg < neg.quantile(0.95)] , \n",
    "         bins=30, ## 몇 개의 바구니로 구분할 것인가. \n",
    "         density=True, ## ytick을 퍼센트비율로 표현해줌 \n",
    "         cumulative=False, ## 누적으로 표현하고 싶을 때는 True\n",
    "         histtype='bar',  ## 타입. or step으로 하면 모양이 바뀜.  \n",
    "         orientation='vertical', ## or horizontal\n",
    "         rwidth=0.8, ## 1.0일 경우, 꽉 채움 작아질수록 간격이 생김\n",
    "         color='hotpink', ## bar 색깔\n",
    "        )\n",
    "plt.show()"
   ]
  },
  {
   "cell_type": "code",
   "execution_count": 27,
   "metadata": {},
   "outputs": [
    {
     "name": "stdout",
     "output_type": "stream",
     "text": [
      "total count 45748 20794\n"
     ]
    }
   ],
   "source": [
    "category_label = ['pos', 'neg', 'unk', 'few']\n",
    "category = []\n",
    "pos_neg_rates = []\n",
    "ok = 0\n",
    "\n",
    "for i in range(len(data)):\n",
    "    r = 2\n",
    "    p = pos[i]\n",
    "    n = neg[i]\n",
    "    \n",
    "    if p + n >= 50 :\n",
    "        rate = p / (n + p)\n",
    "        pos_neg_rates.append(rate)\n",
    "        if abs(rate - 0.5) > 0.05:\n",
    "            r = 0 if p > n else 1\n",
    "        else:\n",
    "            r = 2\n",
    "        ok = ok + 1\n",
    "    else:\n",
    "        r = 3\n",
    "        \n",
    "    category.append(r)\n",
    "\n",
    "print(\"total count\", len(category), ok)"
   ]
  },
  {
   "cell_type": "code",
   "execution_count": 28,
   "metadata": {
    "scrolled": false
   },
   "outputs": [
    {
     "data": {
      "image/png": "[encoded data removed]",
      "text/plain": [
       "<Figure size 432x288 with 1 Axes>"
      ]
     },
     "metadata": {
      "needs_background": "light"
     },
     "output_type": "display_data"
    },
    {
     "data": {
      "image/png": "[encoded data removed]",
      "text/plain": [
       "<Figure size 432x288 with 1 Axes>"
      ]
     },
     "metadata": {
      "needs_background": "light"
     },
     "output_type": "display_data"
    }
   ],
   "source": [
    "plt.title(\"Pos, Neg, Natural Histogram\")\n",
    "# plt.hist(list(map(lambda x: category_label[x], category)), weights=np.ones(len(category)) / len(category))\n",
    "# plt.gca().yaxis.set_major_formatter(PercentFormatter(1))\n",
    "plt.hist(list(map(lambda x: category_label[x], category)))\n",
    "plt.show()\n",
    "plt.title(\"pos_neg_rates Histogram\")\n",
    "plt.hist(pos_neg_rates, bins=5, weights=np.ones(len(pos_neg_rates)) / len(pos_neg_rates))\n",
    "plt.show()"
   ]
  },
  {
   "cell_type": "code",
   "execution_count": null,
   "metadata": {},
   "outputs": [],
   "source": []
  },
  {
   "cell_type": "code",
   "execution_count": 29,
   "metadata": {
    "scrolled": true
   },
   "outputs": [
    {
     "data": {
      "text/html": [
       "<div>\n",
       "<style scoped>\n",
       "    .dataframe tbody tr th:only-of-type {\n",
       "        vertical-align: middle;\n",
       "    }\n",
       "\n",
       "    .dataframe tbody tr th {\n",
       "        vertical-align: top;\n",
       "    }\n",
       "\n",
       "    .dataframe thead th {\n",
       "        text-align: right;\n",
       "    }\n",
       "</style>\n",
       "<table border=\"1\" class=\"dataframe\">\n",
       "  <thead>\n",
       "    <tr style=\"text-align: right;\">\n",
       "      <th></th>\n",
       "      <th>aid</th>\n",
       "      <th>sid</th>\n",
       "      <th>oid</th>\n",
       "      <th>title</th>\n",
       "      <th>content</th>\n",
       "      <th>scraped_at</th>\n",
       "      <th>published_at</th>\n",
       "      <th>comment_count</th>\n",
       "      <th>r.aid</th>\n",
       "      <th>good</th>\n",
       "      <th>...</th>\n",
       "      <th>angry</th>\n",
       "      <th>want</th>\n",
       "      <th>date</th>\n",
       "      <th>title_len</th>\n",
       "      <th>content_len</th>\n",
       "      <th>title_token</th>\n",
       "      <th>title_token_len</th>\n",
       "      <th>content_token</th>\n",
       "      <th>content_token_len</th>\n",
       "      <th>reaction_category</th>\n",
       "    </tr>\n",
       "  </thead>\n",
       "  <tbody>\n",
       "    <tr>\n",
       "      <th>0</th>\n",
       "      <td>0000000091</td>\n",
       "      <td>102</td>\n",
       "      <td>629</td>\n",
       "      <td>서초동 촛불집회, 오늘(28일) '찬성vs반대' 맞불 : 네이버 뉴스</td>\n",
       "      <td>[더팩트ㅣ성강현 기자] 이번 주말 서울 서초동에서 조국 법무부 장관 찬반 촛불집회가...</td>\n",
       "      <td>2019-09-28T02:42:15</td>\n",
       "      <td>2019.09.28. 오전 12:01</td>\n",
       "      <td>None</td>\n",
       "      <td>0000000091</td>\n",
       "      <td>46</td>\n",
       "      <td>...</td>\n",
       "      <td>241</td>\n",
       "      <td>1</td>\n",
       "      <td>2019.09.28</td>\n",
       "      <td>38</td>\n",
       "      <td>875</td>\n",
       "      <td>[서초동, 촛불집회, 오늘, 찬성, vs, 반대, 맞, 불, 네이버, 뉴스]</td>\n",
       "      <td>10</td>\n",
       "      <td>[더, 팩트, 성강현, 기자, 이번, 주말, 서울, 서초동, 조국, 법무부, 장관,...</td>\n",
       "      <td>241</td>\n",
       "      <td>1</td>\n",
       "    </tr>\n",
       "    <tr>\n",
       "      <th>1</th>\n",
       "      <td>0000000304</td>\n",
       "      <td>101</td>\n",
       "      <td>629</td>\n",
       "      <td>우리·하나은행, 안전자산 예금 선호 고객 노려 DLF 팔았다 : 네이버 뉴스</td>\n",
       "      <td>[더팩트｜이지선 기자] 대량 원금 손실을 불러온 해외 주요국 금리 연계형 파생결합상...</td>\n",
       "      <td>2019-10-01T17:02:10</td>\n",
       "      <td>2019.10.01. 오후 4:49</td>\n",
       "      <td>None</td>\n",
       "      <td>0000000304</td>\n",
       "      <td>0</td>\n",
       "      <td>...</td>\n",
       "      <td>2</td>\n",
       "      <td>1</td>\n",
       "      <td>2019.10.01</td>\n",
       "      <td>42</td>\n",
       "      <td>3951</td>\n",
       "      <td>[우리, 하나은행, 안전, 자산, 예금, 선호, 고객, 노려, DLF, 팔았다, 네...</td>\n",
       "      <td>12</td>\n",
       "      <td>[더, 팩트, 이지선, 기자, 대량, 원금, 손실, 불러, 온, 해외, 국, 금리,...</td>\n",
       "      <td>1154</td>\n",
       "      <td>3</td>\n",
       "    </tr>\n",
       "    <tr>\n",
       "      <th>2</th>\n",
       "      <td>0000000318</td>\n",
       "      <td>102</td>\n",
       "      <td>607</td>\n",
       "      <td>[전두환 프로젝트] ④ 연희동 집 가구세트도 막대한 세금으로 구입 : 네이버 뉴스</td>\n",
       "      <td>----------\\n1988년 2월 대통령 자리에서 물러난 전두환이 별도의 ‘전직...</td>\n",
       "      <td>2019-09-09T11:22:07</td>\n",
       "      <td>2019.09.09. 오전 11:17</td>\n",
       "      <td>None</td>\n",
       "      <td>0000000318</td>\n",
       "      <td>0</td>\n",
       "      <td>...</td>\n",
       "      <td>6</td>\n",
       "      <td>2</td>\n",
       "      <td>2019.09.09</td>\n",
       "      <td>45</td>\n",
       "      <td>2612</td>\n",
       "      <td>[전두환, 프로젝트, 연희동, 집, 가구, 세트, 막대, 세금, 구입, 네이버, 뉴스]</td>\n",
       "      <td>11</td>\n",
       "      <td>[대통령, 자리, 물러난, 전두환, 별도, 전직, 대통령, 사무실, 내지, 않았으면...</td>\n",
       "      <td>651</td>\n",
       "      <td>3</td>\n",
       "    </tr>\n",
       "    <tr>\n",
       "      <th>3</th>\n",
       "      <td>0000000320</td>\n",
       "      <td>102</td>\n",
       "      <td>607</td>\n",
       "      <td>식약처, 존슨앤드존슨 제품은 빼고 '암 위험 인공유방 퇴출' : 네이버 뉴스</td>\n",
       "      <td>식품의약품안전처가 암 발병 사례가 보고된 인공유방 보형물이 리콜되고 한 달이 지나서...</td>\n",
       "      <td>2019-09-10T14:20:49</td>\n",
       "      <td>2019.09.10. 오후 2:10</td>\n",
       "      <td>None</td>\n",
       "      <td>0000000320</td>\n",
       "      <td>0</td>\n",
       "      <td>...</td>\n",
       "      <td>14</td>\n",
       "      <td>0</td>\n",
       "      <td>2019.09.10</td>\n",
       "      <td>42</td>\n",
       "      <td>2994</td>\n",
       "      <td>[식약처, 존슨, 앤드, 존슨, 제품, 빼고, 암, 위험, 인공, 유방, 퇴, 출,...</td>\n",
       "      <td>14</td>\n",
       "      <td>[식품의약품안전처, 암, 발병, 사례, 보고, 된, 인공, 유방, 보, 형, 물이,...</td>\n",
       "      <td>875</td>\n",
       "      <td>3</td>\n",
       "    </tr>\n",
       "    <tr>\n",
       "      <th>4</th>\n",
       "      <td>0000000341</td>\n",
       "      <td>102</td>\n",
       "      <td>607</td>\n",
       "      <td>알고도 덮었나?...HDC신라면세점 밀수 은폐 의혹 : 네이버 뉴스</td>\n",
       "      <td>관세청이 HDC신라면세점 전 대표의 시계 밀수 사건을 관세법 위반 혐의로 검찰에 송...</td>\n",
       "      <td>2019-10-08T17:41:46</td>\n",
       "      <td>2019.10.08. 오후 5:26</td>\n",
       "      <td>None</td>\n",
       "      <td>0000000341</td>\n",
       "      <td>0</td>\n",
       "      <td>...</td>\n",
       "      <td>3</td>\n",
       "      <td>1</td>\n",
       "      <td>2019.10.08</td>\n",
       "      <td>37</td>\n",
       "      <td>2717</td>\n",
       "      <td>[알고도, 덮었나, HDC, 신라, 면세점, 밀수, 은폐, 의혹, 네이버, 뉴스]</td>\n",
       "      <td>10</td>\n",
       "      <td>[관세청, HDC, 신라, 면세점, 전, 대표, 시계, 밀수, 사건, 관세, 법, ...</td>\n",
       "      <td>750</td>\n",
       "      <td>3</td>\n",
       "    </tr>\n",
       "  </tbody>\n",
       "</table>\n",
       "<p>5 rows × 22 columns</p>\n",
       "</div>"
      ],
      "text/plain": [
       "          aid  sid  oid                                          title  \\\n",
       "0  0000000091  102  629         서초동 촛불집회, 오늘(28일) '찬성vs반대' 맞불 : 네이버 뉴스   \n",
       "1  0000000304  101  629     우리·하나은행, 안전자산 예금 선호 고객 노려 DLF 팔았다 : 네이버 뉴스   \n",
       "2  0000000318  102  607  [전두환 프로젝트] ④ 연희동 집 가구세트도 막대한 세금으로 구입 : 네이버 뉴스   \n",
       "3  0000000320  102  607     식약처, 존슨앤드존슨 제품은 빼고 '암 위험 인공유방 퇴출' : 네이버 뉴스   \n",
       "4  0000000341  102  607          알고도 덮었나?...HDC신라면세점 밀수 은폐 의혹 : 네이버 뉴스   \n",
       "\n",
       "                                             content           scraped_at  \\\n",
       "0  [더팩트ㅣ성강현 기자] 이번 주말 서울 서초동에서 조국 법무부 장관 찬반 촛불집회가...  2019-09-28T02:42:15   \n",
       "1  [더팩트｜이지선 기자] 대량 원금 손실을 불러온 해외 주요국 금리 연계형 파생결합상...  2019-10-01T17:02:10   \n",
       "2  ----------\\n1988년 2월 대통령 자리에서 물러난 전두환이 별도의 ‘전직...  2019-09-09T11:22:07   \n",
       "3  식품의약품안전처가 암 발병 사례가 보고된 인공유방 보형물이 리콜되고 한 달이 지나서...  2019-09-10T14:20:49   \n",
       "4  관세청이 HDC신라면세점 전 대표의 시계 밀수 사건을 관세법 위반 혐의로 검찰에 송...  2019-10-08T17:41:46   \n",
       "\n",
       "           published_at comment_count       r.aid  good  ...  angry  want  \\\n",
       "0  2019.09.28. 오전 12:01          None  0000000091    46  ...    241     1   \n",
       "1   2019.10.01. 오후 4:49          None  0000000304     0  ...      2     1   \n",
       "2  2019.09.09. 오전 11:17          None  0000000318     0  ...      6     2   \n",
       "3   2019.09.10. 오후 2:10          None  0000000320     0  ...     14     0   \n",
       "4   2019.10.08. 오후 5:26          None  0000000341     0  ...      3     1   \n",
       "\n",
       "         date  title_len content_len  \\\n",
       "0  2019.09.28         38         875   \n",
       "1  2019.10.01         42        3951   \n",
       "2  2019.09.09         45        2612   \n",
       "3  2019.09.10         42        2994   \n",
       "4  2019.10.08         37        2717   \n",
       "\n",
       "                                         title_token  title_token_len  \\\n",
       "0         [서초동, 촛불집회, 오늘, 찬성, vs, 반대, 맞, 불, 네이버, 뉴스]               10   \n",
       "1  [우리, 하나은행, 안전, 자산, 예금, 선호, 고객, 노려, DLF, 팔았다, 네...               12   \n",
       "2   [전두환, 프로젝트, 연희동, 집, 가구, 세트, 막대, 세금, 구입, 네이버, 뉴스]               11   \n",
       "3  [식약처, 존슨, 앤드, 존슨, 제품, 빼고, 암, 위험, 인공, 유방, 퇴, 출,...               14   \n",
       "4      [알고도, 덮었나, HDC, 신라, 면세점, 밀수, 은폐, 의혹, 네이버, 뉴스]               10   \n",
       "\n",
       "                                       content_token  content_token_len  \\\n",
       "0  [더, 팩트, 성강현, 기자, 이번, 주말, 서울, 서초동, 조국, 법무부, 장관,...                241   \n",
       "1  [더, 팩트, 이지선, 기자, 대량, 원금, 손실, 불러, 온, 해외, 국, 금리,...               1154   \n",
       "2  [대통령, 자리, 물러난, 전두환, 별도, 전직, 대통령, 사무실, 내지, 않았으면...                651   \n",
       "3  [식품의약품안전처, 암, 발병, 사례, 보고, 된, 인공, 유방, 보, 형, 물이,...                875   \n",
       "4  [관세청, HDC, 신라, 면세점, 전, 대표, 시계, 밀수, 사건, 관세, 법, ...                750   \n",
       "\n",
       "  reaction_category  \n",
       "0                 1  \n",
       "1                 3  \n",
       "2                 3  \n",
       "3                 3  \n",
       "4                 3  \n",
       "\n",
       "[5 rows x 22 columns]"
      ]
     },
     "execution_count": 29,
     "metadata": {},
     "output_type": "execute_result"
    }
   ],
   "source": [
    "data['reaction_category'] = category\n",
    "data.head()"
   ]
  },
  {
   "cell_type": "code",
   "execution_count": null,
   "metadata": {},
   "outputs": [],
   "source": []
  },
  {
   "cell_type": "code",
   "execution_count": 30,
   "metadata": {},
   "outputs": [],
   "source": [
    "# 전처리 결과 저장\n",
    "preprocessed_labels = [\n",
    "    'title_token',\n",
    "    'content_token',\n",
    "    'reaction_category'\n",
    "]\n",
    "data[preprocessed_labels].to_json(\"../data/news_45000.json\")"
   ]
  }
 ],
 "metadata": {
  "kernelspec": {
   "display_name": "Python 3",
   "language": "python",
   "name": "python3"
  },
  "language_info": {
   "codemirror_mode": {
    "name": "ipython",
    "version": 3
   },
   "file_extension": ".py",
   "mimetype": "text/x-python",
   "name": "python",
   "nbconvert_exporter": "python",
   "pygments_lexer": "ipython3",
   "version": "3.6.5"
  }
 },
 "nbformat": 4,
 "nbformat_minor": 2
}
