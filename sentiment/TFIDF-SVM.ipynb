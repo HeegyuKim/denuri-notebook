{
 "cells": [
  {
   "cell_type": "code",
   "execution_count": 1,
   "metadata": {},
   "outputs": [],
   "source": [
    "%matplotlib inline"
   ]
  },
  {
   "cell_type": "markdown",
   "metadata": {},
   "source": [
    "# TF-IDF + SVM 을 이용한 News Sentiment 분석\n",
    "## Process\n",
    "1. 미리 Preprocessing된 데이터를 읽어\n",
    "2. 데이터를 TF-IDF로 임베딩\n",
    "3. TRAIN-TEST 데이터 분리\n",
    "4. SVM으로 TRAIN 학습\n",
    "5. TEST 검증\n",
    "6. 최적의 k값 찾기\n",
    "\n",
    "## Reference\n",
    "- [Word Embedding Explained, a comparison and code tutorial](https://medium.com/@dcameronsteinke/tf-idf-vs-word-embedding-a-comparison-and-code-tutorial-5ba341379ab0)\n",
    "- [Scikit-Learn의 문서 전처리 기능](https://datascienceschool.net/view-notebook/3e7aadbf88ed4f0d87a76f9ddc925d69/)\n",
    "- [서포트 벡터 머신](https://datascienceschool.net/view-notebook/6c6d450cb2ee49558856fd924b326e00/)"
   ]
  },
  {
   "cell_type": "code",
   "execution_count": 2,
   "metadata": {},
   "outputs": [],
   "source": [
    "import math\n",
    "import pandas as pd\n",
    "import numpy as np\n",
    "import matplotlib.pyplot as plt\n",
    "\n",
    "from sklearn.feature_extraction.text import TfidfVectorizer\n",
    "from sklearn.preprocessing import LabelEncoder\n",
    "from sklearn.svm import SVC, LinearSVC\n",
    "from sklearn.metrics import precision_recall_fscore_support\n",
    "from sklearn.model_selection import train_test_split"
   ]
  },
  {
   "cell_type": "code",
   "execution_count": 3,
   "metadata": {
    "scrolled": true
   },
   "outputs": [
    {
     "data": {
      "text/html": [
       "<div>\n",
       "<style scoped>\n",
       "    .dataframe tbody tr th:only-of-type {\n",
       "        vertical-align: middle;\n",
       "    }\n",
       "\n",
       "    .dataframe tbody tr th {\n",
       "        vertical-align: top;\n",
       "    }\n",
       "\n",
       "    .dataframe thead th {\n",
       "        text-align: right;\n",
       "    }\n",
       "</style>\n",
       "<table border=\"1\" class=\"dataframe\">\n",
       "  <thead>\n",
       "    <tr style=\"text-align: right;\">\n",
       "      <th></th>\n",
       "      <th>title_token</th>\n",
       "      <th>content_token</th>\n",
       "      <th>reaction_category</th>\n",
       "    </tr>\n",
       "  </thead>\n",
       "  <tbody>\n",
       "    <tr>\n",
       "      <th>0</th>\n",
       "      <td>[전두환, 프로젝트, 연희동, 집, 가구, 세트, 막대, 세금, 구입, 네이버, 뉴스]</td>\n",
       "      <td>[대통령, 자리, 물러난, 전두환, 별도, 전직, 대통령, 사무실, 내지, 않았으면...</td>\n",
       "      <td>1</td>\n",
       "    </tr>\n",
       "    <tr>\n",
       "      <th>1</th>\n",
       "      <td>[식약처, 존슨, 앤드, 존슨, 제품, 빼고, 암, 위험, 인공, 유방, 퇴, 출,...</td>\n",
       "      <td>[식품의약품안전처, 암, 발병, 사례, 보고, 된, 인공, 유방, 보, 형, 물이,...</td>\n",
       "      <td>1</td>\n",
       "    </tr>\n",
       "    <tr>\n",
       "      <th>10</th>\n",
       "      <td>[늘어나는, 주택연금, 가입자, 집, 한, 채, 있다면, 노후, 걱정, 마세요, 네...</td>\n",
       "      <td>[주택연금, 올, 들어서만, 명, 가입, 정부, 주택연금, 가입, 기준, 완화, 예...</td>\n",
       "      <td>2</td>\n",
       "    </tr>\n",
       "    <tr>\n",
       "      <th>100</th>\n",
       "      <td>[비서, 성폭행, 안희정, 심, 달랐던, 판단, 오늘, 대법, 선고, 네이버, 뉴스]</td>\n",
       "      <td>[앵커, 심, 무죄, 나왔지만, 심, 실형, 선고, 받고, 법정구속, 돼, 있습니다...</td>\n",
       "      <td>1</td>\n",
       "    </tr>\n",
       "    <tr>\n",
       "      <th>1000</th>\n",
       "      <td>[인천, 경기, 북부, 호우, 주의보, 내일, 최고, 더, 온다, 네이버, 뉴스]</td>\n",
       "      <td>[아침, 인천, 경기, 북부, 파주, 고양, 연천, 김포, 안산, 호우, 주의보, ...</td>\n",
       "      <td>2</td>\n",
       "    </tr>\n",
       "  </tbody>\n",
       "</table>\n",
       "</div>"
      ],
      "text/plain": [
       "                                            title_token  \\\n",
       "0      [전두환, 프로젝트, 연희동, 집, 가구, 세트, 막대, 세금, 구입, 네이버, 뉴스]   \n",
       "1     [식약처, 존슨, 앤드, 존슨, 제품, 빼고, 암, 위험, 인공, 유방, 퇴, 출,...   \n",
       "10    [늘어나는, 주택연금, 가입자, 집, 한, 채, 있다면, 노후, 걱정, 마세요, 네...   \n",
       "100     [비서, 성폭행, 안희정, 심, 달랐던, 판단, 오늘, 대법, 선고, 네이버, 뉴스]   \n",
       "1000      [인천, 경기, 북부, 호우, 주의보, 내일, 최고, 더, 온다, 네이버, 뉴스]   \n",
       "\n",
       "                                          content_token  reaction_category  \n",
       "0     [대통령, 자리, 물러난, 전두환, 별도, 전직, 대통령, 사무실, 내지, 않았으면...                  1  \n",
       "1     [식품의약품안전처, 암, 발병, 사례, 보고, 된, 인공, 유방, 보, 형, 물이,...                  1  \n",
       "10    [주택연금, 올, 들어서만, 명, 가입, 정부, 주택연금, 가입, 기준, 완화, 예...                  2  \n",
       "100   [앵커, 심, 무죄, 나왔지만, 심, 실형, 선고, 받고, 법정구속, 돼, 있습니다...                  1  \n",
       "1000  [아침, 인천, 경기, 북부, 파주, 고양, 연천, 김포, 안산, 호우, 주의보, ...                  2  "
      ]
     },
     "execution_count": 3,
     "metadata": {},
     "output_type": "execute_result"
    }
   ],
   "source": [
    "# 데이터 불러옴\n",
    "data = pd.read_json(\"../data/news_reactions_recent_preprocessed.json\")\n",
    "data.head()"
   ]
  },
  {
   "cell_type": "markdown",
   "metadata": {},
   "source": [
    "## Vectorization\n",
    "Scikit-Learn의 TfidVectorizer를 이용해서 TF-IDF 임베딩을 수행함"
   ]
  },
  {
   "cell_type": "code",
   "execution_count": 94,
   "metadata": {},
   "outputs": [],
   "source": [
    "# sizes: 512, 1024, 2048, 5096, 10192, 20384\n",
    "MAX_FEATURE = 5096\n",
    "# l1, l2(default)\n",
    "NORM = 'l1'\n",
    "title_vectorizer = TfidfVectorizer (max_features=MAX_FEATURE, norm=NORM)\n",
    "content_vectorizer = TfidfVectorizer (max_features=MAX_FEATURE, norm=NORM)"
   ]
  },
  {
   "cell_type": "code",
   "execution_count": 95,
   "metadata": {},
   "outputs": [
    {
     "name": "stdout",
     "output_type": "stream",
     "text": [
      "CPU times: user 93.3 ms, sys: 48 ms, total: 141 ms\n",
      "Wall time: 147 ms\n"
     ]
    }
   ],
   "source": [
    "%%time \n",
    "title_corpus = data.title_token.map(lambda x: \" \".join(x))\n",
    "title_vectorizer.fit(title_corpus)"
   ]
  },
  {
   "cell_type": "code",
   "execution_count": 96,
   "metadata": {},
   "outputs": [
    {
     "name": "stdout",
     "output_type": "stream",
     "text": [
      "CPU times: user 1.2 s, sys: 143 ms, total: 1.34 s\n",
      "Wall time: 1.53 s\n"
     ]
    }
   ],
   "source": [
    "%%time\n",
    "content_corpus = data.content_token.map(lambda x: \" \".join(x))\n",
    "content_vectorizer.fit(content_corpus)"
   ]
  },
  {
   "cell_type": "markdown",
   "metadata": {},
   "source": [
    "위에서 생성한 Vectorizer를 이용해서 문장 내의 토큰들을 TF-IDF 벡터로 변환한다.\n",
    "그러면 한 뉴스 문서는 TF-IDF 벡터들의 목록이므로 2차원 배열이 됨."
   ]
  },
  {
   "cell_type": "code",
   "execution_count": 97,
   "metadata": {},
   "outputs": [
    {
     "name": "stdout",
     "output_type": "stream",
     "text": [
      "CPU times: user 984 ms, sys: 34.3 ms, total: 1.02 s\n",
      "Wall time: 1.08 s\n"
     ]
    }
   ],
   "source": [
    "%%time \n",
    "TITLE_MAX_LEN = 32\n",
    "CONTENT_MAX_LEN = 512\n",
    "# title_X = data.title_token.map(lambda x: title_vectorizer.transform(x if len(x) <= TITLE_MAX_LEN else x[:TITLE_MAX_LEN]))\n",
    "# content_X = data.title_token.map(lambda x: content_vectorizer.transform(x if len(x) <= CONTENT_MAX_LEN else x[:CONTENT_MAX_LEN]))\n",
    "title_X = title_vectorizer.transform(title_corpus)\n",
    "content_X = content_vectorizer.transform(content_corpus)"
   ]
  },
  {
   "cell_type": "code",
   "execution_count": 98,
   "metadata": {
    "scrolled": true
   },
   "outputs": [
    {
     "name": "stdout",
     "output_type": "stream",
     "text": [
      "전두환 프로젝트 연희동 집 가구 세트 막대 세금 구입 네이버 뉴스 36   (0, 4661)\t0.12653278104328083\n",
      "  (0, 3508)\t0.1465336874278461\n",
      "  (0, 2338)\t0.1391519479797004\n",
      "  (0, 2329)\t0.1391519479797004\n",
      "  (0, 1761)\t0.1465336874278461\n",
      "  (0, 1182)\t0.018205609559322475\n",
      "  (0, 1087)\t0.018205609559322475\n",
      "  (0, 657)\t0.1391519479797004\n",
      "  (0, 126)\t0.12653278104328083 (1, 5096)\n",
      "대통령 자리 물러난 전두환 별도 전직 대통령 사무실 내지 않았으면서도 사무실 임차보증금 월세 등 명목 정부 원금 받아 간 사실 문서 확인 됐다 또 퇴임 후 서울 서대문구 연희동 집 돌아간 전두환 막대 세금 각종 고급 가구 등 구입 해 자신 집 꾸민 사실 드러났다 뉴스타파 행정안전부 제출 받은 전직 대통령 예 우 관련 더미 이 같은 사실 보여주는 정부 문서 찾아냈다 뉴스타파 확인 문서 총무처 현 행정안전부 생산 된 것 문서 따르면 전두환 퇴임 후 본인 집 사무실 차리겠다며 임차보증금 원 월세 관리 비조 매달 원 정도 정부 받아 챙겼다 자기 집 자신 세 놓는 형태 나랏돈 빼 먹은 것 뉴스타파 행정안전부 정보공개 청구 해 작성 된 전직 대통령 예 우 관련 문서 확보 했다 전직 대통령 전두환 지급 된 역 확인 하기 위 해서다 뉴스타파 입수 문서 지금 행정안전부 해당 하는 총무처 만든 것 작성 당시 총무처 장관 이었던 김용갑 씨 결재 문서 군인 출신 김용갑 씨 전두환 정부 민정 수석 지낸 뒤 노태우 정부 총무처 장관 지냈다 총무처 문서 전두환 퇴임 직후 정부 지원 받은 내 역 빼곡 히 들어있다 그 중 사무 집기 항목 보면 책상 원 의자 원 응접실 세트 원 가 들어 있고 심지어 옷 걸이 기정 화기 시계 정부 예산 사들인 것 나온다 이런 식 전두환 자신 연희동 집 꾸미는 데 사용 예산 당시 돈 원 넘었다 같은 시기 전두환 비서 받은 월급 원 불과했다 전두환 사무실 집기 사들이는 비용 외 건물 임대료 명목 돈 정부 받아 냈다 대통령 퇴임 후 외부 사무실 내지 않고 본인 사는 집 전직 대통령 사무실 로 꾸몄으면서도 사무실 임차보증금 원 과 월세 원 등 별도 받아 간 것 뉴스타파 전두환 퇴임 이후 각종 명목 챙겨 간 원금 규모 당시 물가 비교 해 봤다 먼저 당시 서울 아파트 시세 기사 따르면 서울 노원구 평형 아파트 분양 가는 원 정도 였다 전두환 있지도 않은 사무실 임대 보증금 원 과 사무실 집기 구입 비용 원 챙긴 금액 비슷했다 정부 발표 공무원 월급 비교 해 봤다 동아일보 보도 따르면 최고 위 직인 급 공무원 기본 급 원 급 사무관 원 정도 였다 결국 전두환 급 공무원 월급 배 가까운 세금 여 원 받아 자기 집 각종 집기 마련 매달 사무관 월급 배 월 여 원 달 하는 국민 세금 존재 하지도 않는 사무실 운영 비라며 받아 간 것 전두환 이렇게 세금 받아가던 전두환 동생 전경환 씨 새마을 비리 사업 구속 되고 이어 국회 비리 특별 위원회 가 구성 되는 등 비리 대한 국민 적 분노 치솟던 때 였다 그럼 전두환 이외 다른 대통령 들 전직 대통령 예 우 따른 사무실 운영 비 어떻게 받아 갔을까 취재 진 행정안전부 물어봤다 노무현 이명박 김대중 김영삼 대통령 경우 행정안전부 저 집기 같은 걸 지원 사례 없습니다 전직 대통령 법률 따라 사무실 운영 경비 국가 로부터 지원 받을 수 있는데 행정안전부 그 동안 이를 정액 지급 해 왔습니다 행정안전부 관계자 행정안전부 설명 종합 하면 전직 대통령 전직 대통령 예 우 관 법률 따라 매년 정해진 금액 사무실 운영 비 지원 했다 전두환 사례 사무실 아닌 자기 집 쓸 책상 의자 하나 하나 청구 해 받아 간 사례 없었다는 것 전두환 퇴 임하기 직전 당시 여당 이었던 민정당 느닷없이 전직 대통령 예우 관 법률 개정안 발의 했다 전직 대통령 대한 우의 규모 범위 대폭 확대 내용 이었다 먼저 퇴임후 지급 받는 대통령 연금 지급 방식 고쳤다 대통령 봉급 액 를 연금 주던 것 봉급 액 각종 수당 포함 금액 를 주는 식 상향 조정 했다 그 결과 당시 전두환 금액 증액 됐다 또 전직 대통령 사무실 운영 비 국가 예산 지원 하도록 했다 기존 교통 통신 편의 지원 정도 였던 것 사무실 운영 비 차량 등 운영 비 지급 바꾼 것 또 생존 기간 내내 국가 경호 받게 했다 군사 쿠데타 광주 학살 정권 잡았고 임기 내내 부정부패 았 것 모자라 퇴임 이후 삶 세금 꼼꼼히 챙겼던 전두환 비리 광주 학살 주도한 혐의 무기징역 함께 원 추징 금 선고 받았던 전두환 넘은 지금 원 넘는 추징 금 내지 않고 버티고 있다 뉴스타파 강민수 기자 한국 탐사저널리즘 센터 뉴스타파 진실 함께 지켜주세요 여러분 제보 세상 바꿀 수 있습니다 2050   (0, 5023)\t0.004301878954323778\n",
      "  (0, 5019)\t0.001989192810573361\n",
      "  (0, 5017)\t0.0019111038861883282\n",
      "  (0, 4974)\t0.0024206859233734538\n",
      "  (0, 4959)\t0.001736434487451517\n",
      "  (0, 4920)\t0.03230559944334201\n",
      "  (0, 4898)\t0.0043376340898463065\n",
      "  (0, 4870)\t0.0033616731850569497\n",
      "  (0, 4860)\t0.0017708516651480013\n",
      "  (0, 4823)\t0.0027743158657779874\n",
      "  (0, 4799)\t0.0011105005337742628\n",
      "  (0, 4758)\t0.0014131572184975041\n",
      "  (0, 4748)\t0.0023187467903530187\n",
      "  (0, 4736)\t0.0015036392107961698\n",
      "  (0, 4733)\t0.0035990070822034042\n",
      "  (0, 4725)\t0.0013594392162860106\n",
      "  (0, 4656)\t0.0017897987750767693\n",
      "  (0, 4624)\t0.00299133718825147\n",
      "  (0, 4575)\t0.0023726418835798547\n",
      "  (0, 4553)\t0.021090317260828276\n",
      "  (0, 4541)\t0.0022868293832023746\n",
      "  (0, 4407)\t0.002260771686384224\n",
      "  (0, 4382)\t0.0023988526852667187\n",
      "  (0, 4333)\t0.0019230259077211837\n",
      "  (0, 4280)\t0.00504722622938663\n",
      "  :\t:\n",
      "  (0, 618)\t0.002949327576844241\n",
      "  (0, 614)\t0.0016874656356972544\n",
      "  (0, 598)\t0.003093339916897184\n",
      "  (0, 586)\t0.005551663453820689\n",
      "  (0, 573)\t0.006524589107365736\n",
      "  (0, 570)\t0.0027953336475983353\n",
      "  (0, 568)\t0.0021452704160794993\n",
      "  (0, 554)\t0.002616418320464875\n",
      "  (0, 536)\t0.005633163881514307\n",
      "  (0, 515)\t0.0020055669350136046\n",
      "  (0, 514)\t0.002409744242044135\n",
      "  (0, 510)\t0.00144248867157357\n",
      "  (0, 461)\t0.00897401156475441\n",
      "  (0, 409)\t0.003036540365739827\n",
      "  (0, 372)\t0.0013575743590720185\n",
      "  (0, 367)\t0.0034488859739525354\n",
      "  (0, 343)\t0.0019017353624252618\n",
      "  (0, 342)\t0.001464362053344812\n",
      "  (0, 297)\t0.0025369819686315333\n",
      "  (0, 264)\t0.002949327576844241\n",
      "  (0, 243)\t0.003935683604967953\n",
      "  (0, 171)\t0.008471657518796048\n",
      "  (0, 120)\t0.0023829880393856267\n",
      "  (0, 118)\t0.0026903616603792956\n",
      "  (0, 116)\t0.0027748182020395588 (1, 5096)\n"
     ]
    }
   ],
   "source": [
    "print(title_corpus[0], len(title_corpus[0]), title_X[0], title_X[0].shape)\n",
    "print(content_corpus[0], len(content_corpus[0]), content_X[0], title_X[0].shape)"
   ]
  },
  {
   "cell_type": "code",
   "execution_count": 99,
   "metadata": {
    "scrolled": true
   },
   "outputs": [
    {
     "name": "stdout",
     "output_type": "stream",
     "text": [
      "(2302, 5096)\n",
      "(2302, 5096)\n"
     ]
    }
   ],
   "source": [
    "print(title_X.shape)\n",
    "print(content_X.shape)\n",
    "# sparse matrix로 결과가 나오는 모습이다\n",
    "# print(title_X[0].shape)\n",
    "# print(title_X[0].toarray())\n",
    "# print(content_X[0].shape)\n",
    "# print(content_X[0].toarray())"
   ]
  },
  {
   "cell_type": "code",
   "execution_count": 100,
   "metadata": {},
   "outputs": [
    {
     "name": "stdout",
     "output_type": "stream",
     "text": [
      "2302 0       1\n",
      "1       1\n",
      "10      2\n",
      "100     1\n",
      "1000    2\n",
      "Name: reaction_category, dtype: int64\n"
     ]
    }
   ],
   "source": [
    "y = data.reaction_category\n",
    "print(len(y), y[:5])"
   ]
  },
  {
   "cell_type": "code",
   "execution_count": 101,
   "metadata": {},
   "outputs": [
    {
     "name": "stdout",
     "output_type": "stream",
     "text": [
      "CPU times: user 46.6 s, sys: 19.5 s, total: 1min 6s\n",
      "Wall time: 1min 15s\n"
     ]
    }
   ],
   "source": [
    "%%time \n",
    "# add padding and merge title and content\n",
    "def add_padding(x, min_size):\n",
    "    if len(x) <= min_size:\n",
    "#         pad = np.zeros((min_size - len(x), x.shape[1]), dtype=float)\n",
    "#         return np.concatenate([x, pad], axis=0)\n",
    "        pad = np.pad(x, (0, min_size - len(x)), mode='constant', constant_values=0)\n",
    "    elif len(x) > min_size:\n",
    "        return x[:min_size]\n",
    "    return x\n",
    "\n",
    "# a = title_X[0]\n",
    "# r = add_padding(a.toarray(), TITLE_MAX_LEN)\n",
    "# print(r)\n",
    "# print(r.shape)\n",
    "title_X_pad = [add_padding(x.toarray(), TITLE_MAX_LEN) for x in title_X]\n",
    "content_X_pad = [add_padding(x.toarray(), CONTENT_MAX_LEN) for x in content_X]"
   ]
  },
  {
   "cell_type": "code",
   "execution_count": 102,
   "metadata": {},
   "outputs": [
    {
     "name": "stdout",
     "output_type": "stream",
     "text": [
      "[[0. 0. 0. ... 0. 0. 0.]]\n"
     ]
    }
   ],
   "source": [
    "title_X = np.array(title_X_pad)\n",
    "content_X = np.array(content_X_pad)\n",
    "print(title_X[1])"
   ]
  },
  {
   "cell_type": "code",
   "execution_count": 103,
   "metadata": {
    "scrolled": true
   },
   "outputs": [],
   "source": [
    "# 뉴스 제목이랑 뉴스 내용이랑 합친다.\n",
    "X = [np.concatenate([title, content], axis=1)[0] for title, content in zip(title_X, content_X)]"
   ]
  },
  {
   "cell_type": "code",
   "execution_count": 104,
   "metadata": {},
   "outputs": [
    {
     "name": "stdout",
     "output_type": "stream",
     "text": [
      "2302\n",
      "[0. 0. 0. ... 0. 0. 0.] (10192,)\n"
     ]
    }
   ],
   "source": [
    "# Shape check\n",
    "print(len(X))\n",
    "print(X[0], X[0].shape)"
   ]
  },
  {
   "cell_type": "markdown",
   "metadata": {},
   "source": [
    "## 학습하기\n",
    "sklearn.svm.SVM을 이용한다.\n"
   ]
  },
  {
   "cell_type": "code",
   "execution_count": 105,
   "metadata": {},
   "outputs": [
    {
     "ename": "ValueError",
     "evalue": "not enough values to unpack (expected 2, got 1)",
     "output_type": "error",
     "traceback": [
      "\u001b[0;31m---------------------------------------------------------------------------\u001b[0m",
      "\u001b[0;31mValueError\u001b[0m                                Traceback (most recent call last)",
      "\u001b[0;32m<ipython-input-105-44a9670228e1>\u001b[0m in \u001b[0;36m<module>\u001b[0;34m\u001b[0m\n\u001b[1;32m      1\u001b[0m \u001b[0;31m# Scikit Learn은 학습데이터가 2d array여야해서 강제로 변경\u001b[0m\u001b[0;34m\u001b[0m\u001b[0;34m\u001b[0m\u001b[0m\n\u001b[1;32m      2\u001b[0m \u001b[0mnsamples\u001b[0m \u001b[0;34m=\u001b[0m \u001b[0mlen\u001b[0m\u001b[0;34m(\u001b[0m\u001b[0mX\u001b[0m\u001b[0;34m)\u001b[0m\u001b[0;34m\u001b[0m\u001b[0m\n\u001b[0;32m----> 3\u001b[0;31m \u001b[0mnx\u001b[0m\u001b[0;34m,\u001b[0m \u001b[0mny\u001b[0m \u001b[0;34m=\u001b[0m \u001b[0mX\u001b[0m\u001b[0;34m[\u001b[0m\u001b[0;36m0\u001b[0m\u001b[0;34m]\u001b[0m\u001b[0;34m.\u001b[0m\u001b[0mshape\u001b[0m\u001b[0;34m\u001b[0m\u001b[0m\n\u001b[0m\u001b[1;32m      4\u001b[0m \u001b[0mX\u001b[0m \u001b[0;34m=\u001b[0m \u001b[0mnp\u001b[0m\u001b[0;34m.\u001b[0m\u001b[0mreshape\u001b[0m\u001b[0;34m(\u001b[0m\u001b[0mX\u001b[0m\u001b[0;34m,\u001b[0m \u001b[0;34m(\u001b[0m\u001b[0mnsamples\u001b[0m\u001b[0;34m,\u001b[0m \u001b[0mnx\u001b[0m\u001b[0;34m*\u001b[0m\u001b[0mny\u001b[0m\u001b[0;34m)\u001b[0m\u001b[0;34m)\u001b[0m\u001b[0;34m\u001b[0m\u001b[0m\n",
      "\u001b[0;31mValueError\u001b[0m: not enough values to unpack (expected 2, got 1)"
     ]
    }
   ],
   "source": [
    "# Scikit Learn은 학습데이터가 2d array여야해서 강제로 변경\n",
    "nsamples = len(X)\n",
    "nx, ny = X[0].shape\n",
    "X = np.reshape(X, (nsamples, nx*ny))"
   ]
  },
  {
   "cell_type": "code",
   "execution_count": 106,
   "metadata": {},
   "outputs": [],
   "source": [
    "# 학습, 실험 데이터 분리\n",
    "X_train, X_test, y_train, y_test = train_test_split(X, y, test_size=0.2)"
   ]
  },
  {
   "cell_type": "markdown",
   "metadata": {},
   "source": [
    "이제 SVC를 이용해서 학습한다."
   ]
  },
  {
   "cell_type": "code",
   "execution_count": 107,
   "metadata": {
    "scrolled": true
   },
   "outputs": [
    {
     "name": "stdout",
     "output_type": "stream",
     "text": [
      "[LibLinear]CPU times: user 320 ms, sys: 298 ms, total: 618 ms\n",
      "Wall time: 831 ms\n"
     ]
    }
   ],
   "source": [
    "%%time \n",
    "C = 1\n",
    "model = LinearSVC(verbose=1, C=C)\n",
    "model.fit(X_train, y_train)"
   ]
  },
  {
   "cell_type": "markdown",
   "metadata": {},
   "source": [
    "score() 함수를 이용해서 평가한다."
   ]
  },
  {
   "cell_type": "code",
   "execution_count": 108,
   "metadata": {},
   "outputs": [
    {
     "data": {
      "text/plain": [
       "0.9299293862031505"
      ]
     },
     "execution_count": 108,
     "metadata": {},
     "output_type": "execute_result"
    }
   ],
   "source": [
    "model.score(X_train, y_train)"
   ]
  },
  {
   "cell_type": "code",
   "execution_count": 109,
   "metadata": {
    "scrolled": true
   },
   "outputs": [
    {
     "data": {
      "text/plain": [
       "0.6984815618221258"
      ]
     },
     "execution_count": 109,
     "metadata": {},
     "output_type": "execute_result"
    }
   ],
   "source": [
    "model.score(X_test, y_test)"
   ]
  },
  {
   "cell_type": "markdown",
   "metadata": {},
   "source": [
    "Test 결과의 몇개 예시를 만들어본다"
   ]
  },
  {
   "cell_type": "code",
   "execution_count": 110,
   "metadata": {},
   "outputs": [
    {
     "name": "stdout",
     "output_type": "stream",
     "text": [
      "title_token           [전두환, 프로젝트, 연희동, 집, 가구, 세트, 막대, 세금, 구입, 네이버, 뉴스]\n",
      "content_token        [대통령, 자리, 물러난, 전두환, 별도, 전직, 대통령, 사무실, 내지, 않았으면...\n",
      "reaction_category                                                    1\n",
      "Name: 0, dtype: object\n",
      "Predict: 중립\n",
      "Answer: 부정\n",
      "\n",
      "title_token          [늘어나는, 주택연금, 가입자, 집, 한, 채, 있다면, 노후, 걱정, 마세요, 네...\n",
      "content_token        [주택연금, 올, 들어서만, 명, 가입, 정부, 주택연금, 가입, 기준, 완화, 예...\n",
      "reaction_category                                                    2\n",
      "Name: 10, dtype: object\n",
      "Predict: 부정\n",
      "Answer: 부정\n",
      "\n",
      "title_token                    [검찰, 없는, 컬러, 표창장, 박지원, 입수, 경로, 네이버, 뉴스]\n",
      "content_token        [꿈, 담는, 캔버스, 채널, A, CHANNEL, A, 무단, 재, 및, 재, 배...\n",
      "reaction_category                                                    1\n",
      "Name: 50, dtype: object\n",
      "Predict: 중립\n",
      "Answer: 중립\n",
      "\n",
      "title_token            [비서, 성폭행, 안희정, 심, 달랐던, 판단, 오늘, 대법, 선고, 네이버, 뉴스]\n",
      "content_token        [앵커, 심, 무죄, 나왔지만, 심, 실형, 선고, 받고, 법정구속, 돼, 있습니다...\n",
      "reaction_category                                                    1\n",
      "Name: 100, dtype: object\n",
      "Predict: 부정\n",
      "Answer: 부정\n",
      "\n",
      "title_token                  [표창장, 원본, 제출, 요구, 조국, 부인, 측, 찾아, 네이버, 뉴스]\n",
      "content_token        [동양대, 총장, 명의, 표창장, 위조, 혐의, 재판, 넘겨진, 조국, 법무부, 장...\n",
      "reaction_category                                                    1\n",
      "Name: 150, dtype: object\n",
      "Predict: 부정\n",
      "Answer: 부정\n",
      "\n"
     ]
    }
   ],
   "source": [
    "test_i = [0, 10, 50, 100, 150]\n",
    "sentiment = [\"긍정\", \"부정\", \"중립\"]\n",
    "for i in test_i:\n",
    "    x = X_test[i]\n",
    "    y = model.predict([x])[0]\n",
    "    print(data.loc[i])\n",
    "    print(\"Predict:\", sentiment[y])\n",
    "    print(\"Answer:\", sentiment[y_test.values[i]])\n",
    "    print()"
   ]
  },
  {
   "cell_type": "code",
   "execution_count": 65,
   "metadata": {},
   "outputs": [],
   "source": [
    "# 결과 모델을 pickle 파일로 저장합니다.\n",
    "import pickle\n",
    "from datetime import datetime\n",
    "t = datetime.now().strftime(\"%Y-%m-%d_%H_%M_%S\")\n",
    "pickle.dump(model, open(f\"../model/tfidf_svm_{t}.pickle\", \"wb\"))"
   ]
  },
  {
   "cell_type": "code",
   "execution_count": 58,
   "metadata": {
    "scrolled": true
   },
   "outputs": [
    {
     "name": "stdout",
     "output_type": "stream",
     "text": [
      "[LibLinear][LibLinear][LibLinear][LibLinear]"
     ]
    },
    {
     "name": "stderr",
     "output_type": "stream",
     "text": [
      "/Users/heegyukim/.pyenv/versions/bitbyte-text/lib/python3.6/site-packages/sklearn/svm/base.py:929: ConvergenceWarning: Liblinear failed to converge, increase the number of iterations.\n",
      "  \"the number of iterations.\", ConvergenceWarning)\n"
     ]
    },
    {
     "name": "stdout",
     "output_type": "stream",
     "text": [
      "[LibLinear]"
     ]
    },
    {
     "name": "stderr",
     "output_type": "stream",
     "text": [
      "/Users/heegyukim/.pyenv/versions/bitbyte-text/lib/python3.6/site-packages/sklearn/svm/base.py:929: ConvergenceWarning: Liblinear failed to converge, increase the number of iterations.\n",
      "  \"the number of iterations.\", ConvergenceWarning)\n"
     ]
    },
    {
     "name": "stdout",
     "output_type": "stream",
     "text": [
      "[LibLinear]"
     ]
    },
    {
     "name": "stderr",
     "output_type": "stream",
     "text": [
      "/Users/heegyukim/.pyenv/versions/bitbyte-text/lib/python3.6/site-packages/sklearn/svm/base.py:929: ConvergenceWarning: Liblinear failed to converge, increase the number of iterations.\n",
      "  \"the number of iterations.\", ConvergenceWarning)\n"
     ]
    },
    {
     "name": "stdout",
     "output_type": "stream",
     "text": [
      "[LibLinear]"
     ]
    },
    {
     "name": "stderr",
     "output_type": "stream",
     "text": [
      "/Users/heegyukim/.pyenv/versions/bitbyte-text/lib/python3.6/site-packages/sklearn/svm/base.py:929: ConvergenceWarning: Liblinear failed to converge, increase the number of iterations.\n",
      "  \"the number of iterations.\", ConvergenceWarning)\n"
     ]
    },
    {
     "name": "stdout",
     "output_type": "stream",
     "text": [
      "[LibLinear]"
     ]
    },
    {
     "name": "stderr",
     "output_type": "stream",
     "text": [
      "/Users/heegyukim/.pyenv/versions/bitbyte-text/lib/python3.6/site-packages/sklearn/svm/base.py:929: ConvergenceWarning: Liblinear failed to converge, increase the number of iterations.\n",
      "  \"the number of iterations.\", ConvergenceWarning)\n"
     ]
    },
    {
     "name": "stdout",
     "output_type": "stream",
     "text": [
      "[LibLinear]"
     ]
    },
    {
     "name": "stderr",
     "output_type": "stream",
     "text": [
      "/Users/heegyukim/.pyenv/versions/bitbyte-text/lib/python3.6/site-packages/sklearn/svm/base.py:929: ConvergenceWarning: Liblinear failed to converge, increase the number of iterations.\n",
      "  \"the number of iterations.\", ConvergenceWarning)\n"
     ]
    },
    {
     "name": "stdout",
     "output_type": "stream",
     "text": [
      "[LibLinear]"
     ]
    },
    {
     "name": "stderr",
     "output_type": "stream",
     "text": [
      "/Users/heegyukim/.pyenv/versions/bitbyte-text/lib/python3.6/site-packages/sklearn/svm/base.py:929: ConvergenceWarning: Liblinear failed to converge, increase the number of iterations.\n",
      "  \"the number of iterations.\", ConvergenceWarning)\n"
     ]
    },
    {
     "name": "stdout",
     "output_type": "stream",
     "text": [
      "[LibLinear]"
     ]
    },
    {
     "name": "stderr",
     "output_type": "stream",
     "text": [
      "/Users/heegyukim/.pyenv/versions/bitbyte-text/lib/python3.6/site-packages/sklearn/svm/base.py:929: ConvergenceWarning: Liblinear failed to converge, increase the number of iterations.\n",
      "  \"the number of iterations.\", ConvergenceWarning)\n"
     ]
    },
    {
     "name": "stdout",
     "output_type": "stream",
     "text": [
      "[LibLinear]"
     ]
    },
    {
     "name": "stderr",
     "output_type": "stream",
     "text": [
      "/Users/heegyukim/.pyenv/versions/bitbyte-text/lib/python3.6/site-packages/sklearn/svm/base.py:929: ConvergenceWarning: Liblinear failed to converge, increase the number of iterations.\n",
      "  \"the number of iterations.\", ConvergenceWarning)\n"
     ]
    },
    {
     "name": "stdout",
     "output_type": "stream",
     "text": [
      "[LibLinear]"
     ]
    },
    {
     "name": "stderr",
     "output_type": "stream",
     "text": [
      "/Users/heegyukim/.pyenv/versions/bitbyte-text/lib/python3.6/site-packages/sklearn/svm/base.py:929: ConvergenceWarning: Liblinear failed to converge, increase the number of iterations.\n",
      "  \"the number of iterations.\", ConvergenceWarning)\n"
     ]
    },
    {
     "name": "stdout",
     "output_type": "stream",
     "text": [
      "[LibLinear]"
     ]
    },
    {
     "name": "stderr",
     "output_type": "stream",
     "text": [
      "/Users/heegyukim/.pyenv/versions/bitbyte-text/lib/python3.6/site-packages/sklearn/svm/base.py:929: ConvergenceWarning: Liblinear failed to converge, increase the number of iterations.\n",
      "  \"the number of iterations.\", ConvergenceWarning)\n"
     ]
    },
    {
     "name": "stdout",
     "output_type": "stream",
     "text": [
      "[LibLinear]"
     ]
    },
    {
     "name": "stderr",
     "output_type": "stream",
     "text": [
      "/Users/heegyukim/.pyenv/versions/bitbyte-text/lib/python3.6/site-packages/sklearn/svm/base.py:929: ConvergenceWarning: Liblinear failed to converge, increase the number of iterations.\n",
      "  \"the number of iterations.\", ConvergenceWarning)\n"
     ]
    },
    {
     "name": "stdout",
     "output_type": "stream",
     "text": [
      "[LibLinear]"
     ]
    },
    {
     "name": "stderr",
     "output_type": "stream",
     "text": [
      "/Users/heegyukim/.pyenv/versions/bitbyte-text/lib/python3.6/site-packages/sklearn/svm/base.py:929: ConvergenceWarning: Liblinear failed to converge, increase the number of iterations.\n",
      "  \"the number of iterations.\", ConvergenceWarning)\n"
     ]
    },
    {
     "name": "stdout",
     "output_type": "stream",
     "text": [
      "[LibLinear][LibLinear]"
     ]
    },
    {
     "name": "stderr",
     "output_type": "stream",
     "text": [
      "/Users/heegyukim/.pyenv/versions/bitbyte-text/lib/python3.6/site-packages/sklearn/svm/base.py:929: ConvergenceWarning: Liblinear failed to converge, increase the number of iterations.\n",
      "  \"the number of iterations.\", ConvergenceWarning)\n"
     ]
    },
    {
     "name": "stdout",
     "output_type": "stream",
     "text": [
      "[LibLinear]"
     ]
    },
    {
     "name": "stderr",
     "output_type": "stream",
     "text": [
      "/Users/heegyukim/.pyenv/versions/bitbyte-text/lib/python3.6/site-packages/sklearn/svm/base.py:929: ConvergenceWarning: Liblinear failed to converge, increase the number of iterations.\n",
      "  \"the number of iterations.\", ConvergenceWarning)\n"
     ]
    },
    {
     "name": "stdout",
     "output_type": "stream",
     "text": [
      "[LibLinear]"
     ]
    },
    {
     "name": "stderr",
     "output_type": "stream",
     "text": [
      "/Users/heegyukim/.pyenv/versions/bitbyte-text/lib/python3.6/site-packages/sklearn/svm/base.py:929: ConvergenceWarning: Liblinear failed to converge, increase the number of iterations.\n",
      "  \"the number of iterations.\", ConvergenceWarning)\n"
     ]
    },
    {
     "name": "stdout",
     "output_type": "stream",
     "text": [
      "[LibLinear]"
     ]
    },
    {
     "name": "stderr",
     "output_type": "stream",
     "text": [
      "/Users/heegyukim/.pyenv/versions/bitbyte-text/lib/python3.6/site-packages/sklearn/svm/base.py:929: ConvergenceWarning: Liblinear failed to converge, increase the number of iterations.\n",
      "  \"the number of iterations.\", ConvergenceWarning)\n"
     ]
    },
    {
     "name": "stdout",
     "output_type": "stream",
     "text": [
      "[LibLinear][LibLinear]"
     ]
    },
    {
     "name": "stderr",
     "output_type": "stream",
     "text": [
      "/Users/heegyukim/.pyenv/versions/bitbyte-text/lib/python3.6/site-packages/sklearn/svm/base.py:929: ConvergenceWarning: Liblinear failed to converge, increase the number of iterations.\n",
      "  \"the number of iterations.\", ConvergenceWarning)\n"
     ]
    },
    {
     "name": "stdout",
     "output_type": "stream",
     "text": [
      "[LibLinear]"
     ]
    },
    {
     "name": "stderr",
     "output_type": "stream",
     "text": [
      "/Users/heegyukim/.pyenv/versions/bitbyte-text/lib/python3.6/site-packages/sklearn/svm/base.py:929: ConvergenceWarning: Liblinear failed to converge, increase the number of iterations.\n",
      "  \"the number of iterations.\", ConvergenceWarning)\n"
     ]
    },
    {
     "name": "stdout",
     "output_type": "stream",
     "text": [
      "[LibLinear]"
     ]
    },
    {
     "name": "stderr",
     "output_type": "stream",
     "text": [
      "/Users/heegyukim/.pyenv/versions/bitbyte-text/lib/python3.6/site-packages/sklearn/svm/base.py:929: ConvergenceWarning: Liblinear failed to converge, increase the number of iterations.\n",
      "  \"the number of iterations.\", ConvergenceWarning)\n"
     ]
    },
    {
     "name": "stdout",
     "output_type": "stream",
     "text": [
      "[LibLinear]"
     ]
    },
    {
     "name": "stderr",
     "output_type": "stream",
     "text": [
      "/Users/heegyukim/.pyenv/versions/bitbyte-text/lib/python3.6/site-packages/sklearn/svm/base.py:929: ConvergenceWarning: Liblinear failed to converge, increase the number of iterations.\n",
      "  \"the number of iterations.\", ConvergenceWarning)\n"
     ]
    },
    {
     "name": "stdout",
     "output_type": "stream",
     "text": [
      "[LibLinear][LibLinear]"
     ]
    },
    {
     "name": "stderr",
     "output_type": "stream",
     "text": [
      "/Users/heegyukim/.pyenv/versions/bitbyte-text/lib/python3.6/site-packages/sklearn/svm/base.py:929: ConvergenceWarning: Liblinear failed to converge, increase the number of iterations.\n",
      "  \"the number of iterations.\", ConvergenceWarning)\n"
     ]
    },
    {
     "name": "stdout",
     "output_type": "stream",
     "text": [
      "[LibLinear]"
     ]
    },
    {
     "name": "stderr",
     "output_type": "stream",
     "text": [
      "/Users/heegyukim/.pyenv/versions/bitbyte-text/lib/python3.6/site-packages/sklearn/svm/base.py:929: ConvergenceWarning: Liblinear failed to converge, increase the number of iterations.\n",
      "  \"the number of iterations.\", ConvergenceWarning)\n"
     ]
    },
    {
     "name": "stdout",
     "output_type": "stream",
     "text": [
      "[LibLinear]"
     ]
    },
    {
     "name": "stderr",
     "output_type": "stream",
     "text": [
      "/Users/heegyukim/.pyenv/versions/bitbyte-text/lib/python3.6/site-packages/sklearn/svm/base.py:929: ConvergenceWarning: Liblinear failed to converge, increase the number of iterations.\n",
      "  \"the number of iterations.\", ConvergenceWarning)\n"
     ]
    },
    {
     "name": "stdout",
     "output_type": "stream",
     "text": [
      "[LibLinear]"
     ]
    },
    {
     "name": "stderr",
     "output_type": "stream",
     "text": [
      "/Users/heegyukim/.pyenv/versions/bitbyte-text/lib/python3.6/site-packages/sklearn/svm/base.py:929: ConvergenceWarning: Liblinear failed to converge, increase the number of iterations.\n",
      "  \"the number of iterations.\", ConvergenceWarning)\n"
     ]
    },
    {
     "name": "stdout",
     "output_type": "stream",
     "text": [
      "[LibLinear]"
     ]
    },
    {
     "name": "stderr",
     "output_type": "stream",
     "text": [
      "/Users/heegyukim/.pyenv/versions/bitbyte-text/lib/python3.6/site-packages/sklearn/svm/base.py:929: ConvergenceWarning: Liblinear failed to converge, increase the number of iterations.\n",
      "  \"the number of iterations.\", ConvergenceWarning)\n"
     ]
    },
    {
     "name": "stdout",
     "output_type": "stream",
     "text": [
      "[LibLinear]"
     ]
    },
    {
     "name": "stderr",
     "output_type": "stream",
     "text": [
      "/Users/heegyukim/.pyenv/versions/bitbyte-text/lib/python3.6/site-packages/sklearn/svm/base.py:929: ConvergenceWarning: Liblinear failed to converge, increase the number of iterations.\n",
      "  \"the number of iterations.\", ConvergenceWarning)\n"
     ]
    },
    {
     "name": "stdout",
     "output_type": "stream",
     "text": [
      "[LibLinear]"
     ]
    },
    {
     "name": "stderr",
     "output_type": "stream",
     "text": [
      "/Users/heegyukim/.pyenv/versions/bitbyte-text/lib/python3.6/site-packages/sklearn/svm/base.py:929: ConvergenceWarning: Liblinear failed to converge, increase the number of iterations.\n",
      "  \"the number of iterations.\", ConvergenceWarning)\n"
     ]
    },
    {
     "name": "stdout",
     "output_type": "stream",
     "text": [
      "[LibLinear][LibLinear]"
     ]
    },
    {
     "name": "stderr",
     "output_type": "stream",
     "text": [
      "/Users/heegyukim/.pyenv/versions/bitbyte-text/lib/python3.6/site-packages/sklearn/svm/base.py:929: ConvergenceWarning: Liblinear failed to converge, increase the number of iterations.\n",
      "  \"the number of iterations.\", ConvergenceWarning)\n"
     ]
    },
    {
     "name": "stdout",
     "output_type": "stream",
     "text": [
      "[LibLinear][LibLinear]"
     ]
    },
    {
     "name": "stderr",
     "output_type": "stream",
     "text": [
      "/Users/heegyukim/.pyenv/versions/bitbyte-text/lib/python3.6/site-packages/sklearn/svm/base.py:929: ConvergenceWarning: Liblinear failed to converge, increase the number of iterations.\n",
      "  \"the number of iterations.\", ConvergenceWarning)\n"
     ]
    },
    {
     "name": "stdout",
     "output_type": "stream",
     "text": [
      "[LibLinear]"
     ]
    },
    {
     "name": "stderr",
     "output_type": "stream",
     "text": [
      "/Users/heegyukim/.pyenv/versions/bitbyte-text/lib/python3.6/site-packages/sklearn/svm/base.py:929: ConvergenceWarning: Liblinear failed to converge, increase the number of iterations.\n",
      "  \"the number of iterations.\", ConvergenceWarning)\n"
     ]
    },
    {
     "name": "stdout",
     "output_type": "stream",
     "text": [
      "[LibLinear][LibLinear]"
     ]
    },
    {
     "name": "stderr",
     "output_type": "stream",
     "text": [
      "/Users/heegyukim/.pyenv/versions/bitbyte-text/lib/python3.6/site-packages/sklearn/svm/base.py:929: ConvergenceWarning: Liblinear failed to converge, increase the number of iterations.\n",
      "  \"the number of iterations.\", ConvergenceWarning)\n"
     ]
    },
    {
     "name": "stdout",
     "output_type": "stream",
     "text": [
      "[LibLinear][LibLinear][LibLinear][LibLinear][LibLinear][LibLinear][LibLinear]"
     ]
    },
    {
     "name": "stderr",
     "output_type": "stream",
     "text": [
      "/Users/heegyukim/.pyenv/versions/bitbyte-text/lib/python3.6/site-packages/sklearn/svm/base.py:929: ConvergenceWarning: Liblinear failed to converge, increase the number of iterations.\n",
      "  \"the number of iterations.\", ConvergenceWarning)\n"
     ]
    },
    {
     "name": "stdout",
     "output_type": "stream",
     "text": [
      "[LibLinear]"
     ]
    },
    {
     "name": "stderr",
     "output_type": "stream",
     "text": [
      "/Users/heegyukim/.pyenv/versions/bitbyte-text/lib/python3.6/site-packages/sklearn/svm/base.py:929: ConvergenceWarning: Liblinear failed to converge, increase the number of iterations.\n",
      "  \"the number of iterations.\", ConvergenceWarning)\n"
     ]
    },
    {
     "name": "stdout",
     "output_type": "stream",
     "text": [
      "[LibLinear]"
     ]
    },
    {
     "name": "stderr",
     "output_type": "stream",
     "text": [
      "/Users/heegyukim/.pyenv/versions/bitbyte-text/lib/python3.6/site-packages/sklearn/svm/base.py:929: ConvergenceWarning: Liblinear failed to converge, increase the number of iterations.\n",
      "  \"the number of iterations.\", ConvergenceWarning)\n"
     ]
    },
    {
     "name": "stdout",
     "output_type": "stream",
     "text": [
      "[LibLinear][LibLinear]"
     ]
    },
    {
     "name": "stderr",
     "output_type": "stream",
     "text": [
      "/Users/heegyukim/.pyenv/versions/bitbyte-text/lib/python3.6/site-packages/sklearn/svm/base.py:929: ConvergenceWarning: Liblinear failed to converge, increase the number of iterations.\n",
      "  \"the number of iterations.\", ConvergenceWarning)\n"
     ]
    },
    {
     "name": "stdout",
     "output_type": "stream",
     "text": [
      "[LibLinear]"
     ]
    },
    {
     "name": "stderr",
     "output_type": "stream",
     "text": [
      "/Users/heegyukim/.pyenv/versions/bitbyte-text/lib/python3.6/site-packages/sklearn/svm/base.py:929: ConvergenceWarning: Liblinear failed to converge, increase the number of iterations.\n",
      "  \"the number of iterations.\", ConvergenceWarning)\n"
     ]
    },
    {
     "name": "stdout",
     "output_type": "stream",
     "text": [
      "[LibLinear][LibLinear][LibLinear]"
     ]
    },
    {
     "name": "stderr",
     "output_type": "stream",
     "text": [
      "/Users/heegyukim/.pyenv/versions/bitbyte-text/lib/python3.6/site-packages/sklearn/svm/base.py:929: ConvergenceWarning: Liblinear failed to converge, increase the number of iterations.\n",
      "  \"the number of iterations.\", ConvergenceWarning)\n"
     ]
    },
    {
     "name": "stdout",
     "output_type": "stream",
     "text": [
      "[LibLinear][LibLinear][LibLinear]"
     ]
    },
    {
     "name": "stderr",
     "output_type": "stream",
     "text": [
      "/Users/heegyukim/.pyenv/versions/bitbyte-text/lib/python3.6/site-packages/sklearn/svm/base.py:929: ConvergenceWarning: Liblinear failed to converge, increase the number of iterations.\n",
      "  \"the number of iterations.\", ConvergenceWarning)\n"
     ]
    },
    {
     "name": "stdout",
     "output_type": "stream",
     "text": [
      "[LibLinear]"
     ]
    },
    {
     "name": "stderr",
     "output_type": "stream",
     "text": [
      "/Users/heegyukim/.pyenv/versions/bitbyte-text/lib/python3.6/site-packages/sklearn/svm/base.py:929: ConvergenceWarning: Liblinear failed to converge, increase the number of iterations.\n",
      "  \"the number of iterations.\", ConvergenceWarning)\n"
     ]
    },
    {
     "name": "stdout",
     "output_type": "stream",
     "text": [
      "[LibLinear]"
     ]
    },
    {
     "name": "stderr",
     "output_type": "stream",
     "text": [
      "/Users/heegyukim/.pyenv/versions/bitbyte-text/lib/python3.6/site-packages/sklearn/svm/base.py:929: ConvergenceWarning: Liblinear failed to converge, increase the number of iterations.\n",
      "  \"the number of iterations.\", ConvergenceWarning)\n"
     ]
    },
    {
     "name": "stdout",
     "output_type": "stream",
     "text": [
      "[LibLinear][LibLinear][LibLinear][LibLinear][LibLinear][LibLinear][LibLinear][LibLinear][LibLinear]"
     ]
    },
    {
     "name": "stderr",
     "output_type": "stream",
     "text": [
      "/Users/heegyukim/.pyenv/versions/bitbyte-text/lib/python3.6/site-packages/sklearn/svm/base.py:929: ConvergenceWarning: Liblinear failed to converge, increase the number of iterations.\n",
      "  \"the number of iterations.\", ConvergenceWarning)\n"
     ]
    },
    {
     "name": "stdout",
     "output_type": "stream",
     "text": [
      "[LibLinear]"
     ]
    },
    {
     "name": "stderr",
     "output_type": "stream",
     "text": [
      "/Users/heegyukim/.pyenv/versions/bitbyte-text/lib/python3.6/site-packages/sklearn/svm/base.py:929: ConvergenceWarning: Liblinear failed to converge, increase the number of iterations.\n",
      "  \"the number of iterations.\", ConvergenceWarning)\n"
     ]
    },
    {
     "name": "stdout",
     "output_type": "stream",
     "text": [
      "[LibLinear][LibLinear][LibLinear][LibLinear][LibLinear][LibLinear][LibLinear][LibLinear][LibLinear][LibLinear]"
     ]
    },
    {
     "name": "stderr",
     "output_type": "stream",
     "text": [
      "/Users/heegyukim/.pyenv/versions/bitbyte-text/lib/python3.6/site-packages/sklearn/svm/base.py:929: ConvergenceWarning: Liblinear failed to converge, increase the number of iterations.\n",
      "  \"the number of iterations.\", ConvergenceWarning)\n"
     ]
    },
    {
     "name": "stdout",
     "output_type": "stream",
     "text": [
      "[LibLinear][LibLinear]"
     ]
    },
    {
     "name": "stderr",
     "output_type": "stream",
     "text": [
      "/Users/heegyukim/.pyenv/versions/bitbyte-text/lib/python3.6/site-packages/sklearn/svm/base.py:929: ConvergenceWarning: Liblinear failed to converge, increase the number of iterations.\n",
      "  \"the number of iterations.\", ConvergenceWarning)\n"
     ]
    },
    {
     "name": "stdout",
     "output_type": "stream",
     "text": [
      "[LibLinear][LibLinear][LibLinear][LibLinear][LibLinear][LibLinear][LibLinear][LibLinear][LibLinear][LibLinear][LibLinear][LibLinear][LibLinear][LibLinear][LibLinear][LibLinear][LibLinear]"
     ]
    }
   ],
   "source": [
    "scores = []\n",
    "for i in range(100):\n",
    "    C = 0.001 + i / 100\n",
    "    model = LinearSVC(verbose=1, max_iter=1000, C=C)\n",
    "    model.fit(X_train, y_train)\n",
    "    scores.append((C, model.score(X_test, y_test)))"
   ]
  },
  {
   "cell_type": "code",
   "execution_count": 61,
   "metadata": {},
   "outputs": [
    {
     "data": {
      "image/png": "[encoded data removed]",
      "text/plain": [
       "<Figure size 432x288 with 1 Axes>"
      ]
     },
     "metadata": {
      "needs_background": "light"
     },
     "output_type": "display_data"
    }
   ],
   "source": [
    "s_x = [x[0] for x in scores]\n",
    "s_y = [x[1] for x in scores]\n",
    "plt.plot(s_x, s_y)\n",
    "plt.show()"
   ]
  },
  {
   "cell_type": "code",
   "execution_count": 62,
   "metadata": {},
   "outputs": [],
   "source": [
    "pd.DataFrame(scores).to_csv(f\"../data/tfidf_C_{C}_numfeature_{MAX_FEATURE}_norm_{NORM}.csv\")"
   ]
  }
 ],
 "metadata": {
  "kernelspec": {
   "display_name": "Python 3",
   "language": "python",
   "name": "python3"
  },
  "language_info": {
   "codemirror_mode": {
    "name": "ipython",
    "version": 3
   },
   "file_extension": ".py",
   "mimetype": "text/x-python",
   "name": "python",
   "nbconvert_exporter": "python",
   "pygments_lexer": "ipython3",
   "version": "3.6.4"
  }
 },
 "nbformat": 4,
 "nbformat_minor": 2
}
